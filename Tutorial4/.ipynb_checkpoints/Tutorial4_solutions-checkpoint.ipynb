{
 "cells": [
  {
   "cell_type": "markdown",
   "id": "8a9ccda8-963d-47e3-84bd-411e46ab3656",
   "metadata": {},
   "source": [
    "# Tutorial 4: Natural chromaticity"
   ]
  },
  {
   "cell_type": "markdown",
   "id": "b45d4567-2869-4887-ad0e-d600c4904470",
   "metadata": {},
   "source": [
    "# Python libraries "
   ]
  },
  {
   "cell_type": "code",
   "execution_count": 14,
   "id": "bd697799-f96f-432c-8a64-b1ab79d1f10f",
   "metadata": {},
   "outputs": [],
   "source": [
    "#########################################\n",
    "# Python libraries                      #\n",
    "#########################################\n",
    "from matplotlib import pyplot as plt\n",
    "import numpy as np\n",
    "import pandas as pd\n",
    "\n",
    "#########################################\n",
    "# Cpymad library                        #\n",
    "#########################################\n",
    "from cpymad.madx import Madx "
   ]
  },
  {
   "cell_type": "markdown",
   "id": "ff835d2a-d35b-46cb-b5ff-17bddd825511",
   "metadata": {},
   "source": [
    "# Launching MAD-X"
   ]
  },
  {
   "cell_type": "code",
   "execution_count": 15,
   "id": "96967b3b-ab86-4214-a275-cda37a0c8854",
   "metadata": {},
   "outputs": [
    {
     "name": "stdout",
     "output_type": "stream",
     "text": [
      "\n",
      "  ++++++++++++++++++++++++++++++++++++++++++++\n",
      "  +     MAD-X 5.09.00  (64 bit, Darwin)      +\n",
      "  + Support: mad@cern.ch, http://cern.ch/mad +\n",
      "  + Release   date: 2023.05.05               +\n",
      "  + Execution date: 2024.01.03 11:48:57      +\n",
      "  ++++++++++++++++++++++++++++++++++++++++++++\n"
     ]
    }
   ],
   "source": [
    "# madx = Madx(stdout=True)\n",
    "madx = Madx()"
   ]
  },
  {
   "cell_type": "markdown",
   "id": "aa53062a-5382-416d-899f-eca15cb10b64",
   "metadata": {},
   "source": [
    "# Questions"
   ]
  },
  {
   "cell_type": "markdown",
   "id": "ac7a2ce7-3a86-4023-8c83-7bb7830ac801",
   "metadata": {},
   "source": [
    "#### 1. Run the Tutorial4.madx file to compute the twiss of the new thin lens lattice. Using the chromaticities obtained, compute the tunes for $\\Delta p / p = 10^{-3}$\n",
    "\n",
    "#### $\\Delta Q = dq* \\frac{\\Delta p}{p}$\n"
   ]
  },
  {
   "cell_type": "markdown",
   "id": "f8e00d23-3a1b-44b8-9763-d95feb930a08",
   "metadata": {},
   "source": [
    "#### First, we run the Tutorial4.madx file"
   ]
  },
  {
   "cell_type": "code",
   "execution_count": 16,
   "id": "734f4cba-8afd-4f26-9b27-c71dbf9ceeda",
   "metadata": {
    "tags": []
   },
   "outputs": [
    {
     "name": "stdout",
     "output_type": "stream",
     "text": [
      "! *********************************************************************\n",
      "\n",
      "! Definition of parameters\n",
      "\n",
      "! *********************************************************************\n",
      "\n",
      "\n",
      "\n",
      "l_cell=100;\n",
      "\n",
      "quadrupoleLength=5;\n",
      "\n",
      "dipoleLength=15;\n",
      "\n",
      "cellLength=100;\n",
      "\n",
      "nBend=736;\n",
      "\n",
      "\n",
      "\n",
      "myKF=2.8/l_cell/quadrupoleLength;\n",
      "\n",
      "myKD:=-2.8/l_cell/quadrupoleLength;\n",
      "\n",
      "\n",
      "\n",
      "myAngle:=2*pi/nBend;\n",
      "\n",
      "\n",
      "\n",
      "! *********************************************************************\n",
      "\n",
      "! Definition of magnets\n",
      "\n",
      "! ********************************************************************* \n",
      "\n",
      "\n",
      "\n",
      "QF: quadrupole, L=quadrupoleLength, K1:=myKF;\n",
      "\n",
      "QD: quadrupole, L=quadrupoleLength, K1:=myKD;\n",
      "\n",
      "BM: sbend, L=dipoleLength, angle:=myAngle; \n",
      "\n",
      "\n",
      "\n",
      "! *********************************************************************\n",
      "\n",
      "! Definition of sequence\n",
      "\n",
      "! *********************************************************************\n",
      "\n",
      "\n",
      "\n",
      "myCell:sequence, refer=centre, L=l_cell; ! Here the reference is set to the centre of the element in order to use the makethin command\n",
      "\n",
      "q1: QF, at=0+quadrupoleLength/2;\n",
      "\n",
      "B1: BM, at =5+quadrupoleLength/2+dipoleLength/2, from=q1;\n",
      "\n",
      "B2: BM, at =5+dipoleLength, from=b1;\n",
      "\n",
      "q2: QD, at=l_cell/2+quadrupoleLength/2;\n",
      "\n",
      "B3: BM, at =5+quadrupoleLength/2+dipoleLength/2, from=q2;\n",
      "\n",
      "B4: BM, at =5+dipoleLength, from=b3;;\n",
      "\n",
      "endsequence;\n",
      "\n",
      "\n",
      "\n",
      "! *********************************************************************\n",
      "\n",
      "! Definition of the beam\n",
      "\n",
      "! *********************************************************************\n",
      "\n",
      "\n",
      "\n",
      "beam, particle=proton, energy=7000;\n",
      "\n",
      "\n",
      "\n",
      "! *********************************************************************\n",
      "\n",
      "! Activation of sequence\n",
      "\n",
      "! *********************************************************************\n",
      "\n",
      "\n",
      "\n",
      "use, sequence=myCell;\n",
      "\n",
      "\n",
      "\n",
      "! *********************************************************************\n",
      "\n",
      "! Twiss\n",
      "\n",
      "! *********************************************************************\n",
      "\n",
      "\n",
      "\n",
      "twiss;\n",
      "\n",
      "enter Twiss module\n",
      "  \n",
      "iteration:   1 error:   0.000000E+00 deltap:   0.000000E+00\n",
      "orbit:   0.000000E+00  0.000000E+00  0.000000E+00  0.000000E+00  0.000000E+00  0.000000E+00\n",
      "\n",
      "++++++ table: summ\n",
      "\n",
      "            length             orbit5               alfa            gammatr \n",
      "               100                 -0    0.0006051853679        40.64955451 \n",
      "\n",
      "                q1                dq1            betxmax              dxmax \n",
      "       0.236500685      -0.2917600666        160.5475138        2.444933737 \n",
      "\n",
      "             dxrms             xcomax             xcorms                 q2 \n",
      "       1.953527658                  0                  0       0.2363728498 \n",
      "\n",
      "               dq2            betymax              dymax              dyrms \n",
      "     -0.2918567527        160.6036546                  0                  0 \n",
      "\n",
      "            ycomax             ycorms             deltap            synch_1 \n",
      "                 0                  0                  0                  0 \n",
      "\n",
      "           synch_2            synch_3            synch_4            synch_5 \n",
      "                 0                  0                  0                  0 \n",
      "\n",
      "           synch_6            synch_8             nflips              dqmin \n",
      "                 0                  0                  0                  0 \n",
      "\n",
      "       dqmin_phase \n",
      "                 0 \n",
      "\n",
      "\n",
      "! *********************************************************************\n",
      "\n",
      "! Makethin\n",
      "\n",
      "! *********************************************************************\n",
      "\n",
      "\n",
      "\n",
      "select, flag=makethin, slice=5;\n",
      "\n",
      "makethin, sequence = myCell;\n",
      "\n",
      "makethin: slicing sequence : mycell\n",
      "use, sequence=myCell;\n",
      "\n",
      "\n",
      "\n",
      "! *********************************************************************\n",
      "\n",
      "! Twiss before matching\n",
      "\n",
      "! *********************************************************************\n",
      "\n",
      "\n",
      "\n",
      "twiss, table = beforematching, file=BeforeMatching.txt;\n",
      "\n",
      "enter Twiss module\n",
      "  \n",
      "iteration:   1 error:   0.000000E+00 deltap:   0.000000E+00\n",
      "orbit:   0.000000E+00  0.000000E+00  0.000000E+00  0.000000E+00  0.000000E+00  0.000000E+00\n",
      "\n",
      "++++++ table: summ\n",
      "\n",
      "            length             orbit5               alfa            gammatr \n",
      "               100                 -0    0.0006051895729        40.64941329 \n",
      "\n",
      "                q1                dq1            betxmax              dxmax \n",
      "       0.236495072      -0.2921318128        166.2558434        2.488367561 \n",
      "\n",
      "             dxrms             xcomax             xcorms                 q2 \n",
      "       1.868950234                  0                  0       0.2363671944 \n",
      "\n",
      "               dq2            betymax              dymax              dyrms \n",
      "      -0.292078636        166.3139813                  0                  0 \n",
      "\n",
      "            ycomax             ycorms             deltap            synch_1 \n",
      "                 0                  0                  0                  0 \n",
      "\n",
      "           synch_2            synch_3            synch_4            synch_5 \n",
      "                 0                  0                  0                  0 \n",
      "\n",
      "           synch_6            synch_8             nflips              dqmin \n",
      "                 0                  0                  0                  0 \n",
      "\n",
      "       dqmin_phase \n",
      "                 0 \n",
      "\n",
      "\n",
      "! *********************************************************************\n",
      "\n",
      "! Matching\n",
      "\n",
      "! *********************************************************************\n",
      "\n",
      "\n",
      "\n",
      "match, sequence=myCell;\n",
      "\n",
      "START MATCHING\n",
      "\n",
      "number of sequences: 1\n",
      "sequence name: mycell\n",
      "global, q1=0.25;\n",
      "\n",
      "global, q2=0.25;\n",
      "\n",
      "vary, name=mykf, step=0.00001;\n",
      "\n",
      "vary, name=mykd, step=0.00001;\n",
      "\n",
      "lmdif, calls=50, tolerance=1e-6;\n",
      "\n",
      "number of variables:    2\n",
      "user given constraints: 1\n",
      "total constraints:      2\n",
      "\n",
      "START LMDIF:\n",
      "\n",
      "Initial Penalty Function =   0.36823647E-01\n",
      "\n",
      "\n",
      "call:       4   Penalty function =   0.15781041E-04\n",
      "call:       7   Penalty function =   0.30743039E-11\n",
      " ++++++++++ LMDIF ended: converged successfully\n",
      "call:       7   Penalty function =   0.30743039E-11\n",
      "endmatch;\n",
      "\n",
      "\n",
      "MATCH SUMMARY\n",
      "\n",
      "Node_Name                  Constraint   Type  Target Value       Final Value        Penalty\n",
      "--------------------------------------------------------------------------------------------------\n",
      "Global constraint:         q1           4     2.50000000E-01     2.50000123E-01     1.52135749E-12\n",
      "Global constraint:         q2           4     2.50000000E-01     2.50000125E-01     1.55294637E-12\n",
      "\n",
      "\n",
      "Final Penalty Function =   3.07430386e-12\n",
      "\n",
      "\n",
      "\n",
      "\n",
      "\n",
      "Variable                 Final Value  Initial Value Lower Limit  Upper Limit \n",
      "--------------------------------------------------------------------------------\n",
      "mykf                      5.85422e-03  5.60000e-03 -1.00000e+20  1.00000e+20\n",
      "mykd                     -5.85582e-03 -5.60000e-03 -1.00000e+20  1.00000e+20\n",
      "\n",
      "END MATCH SUMMARY\n",
      "\n",
      "VARIABLE \"TAR\" SET TO   3.07430386e-12\n",
      "\n",
      "\n",
      "! *********************************************************************\n",
      "\n",
      "! Twiss after matching\n",
      "\n",
      "! *********************************************************************\n",
      "\n",
      "\n",
      "\n",
      "twiss, table=AfterMatching, file=AfterMatching.txt;\n",
      "\n",
      "enter Twiss module\n",
      "  \n",
      "iteration:   1 error:   0.000000E+00 deltap:   0.000000E+00\n",
      "orbit:   0.000000E+00  0.000000E+00  0.000000E+00  0.000000E+00  0.000000E+00  0.000000E+00\n",
      "\n",
      "++++++ table: summ\n",
      "\n",
      "            length             orbit5               alfa            gammatr \n",
      "               100                 -0    0.0005512365533        42.59229048 \n",
      "\n",
      "                q1                dq1            betxmax              dxmax \n",
      "      0.2500001233      -0.3181068348        168.6213473        2.303661694 \n",
      "\n",
      "             dxrms             xcomax             xcorms                 q2 \n",
      "       1.710230333                  0                  0       0.2500001246 \n",
      "\n",
      "               dq2            betymax              dymax              dyrms \n",
      "     -0.3181621445        168.6466613                  0                  0 \n",
      "\n",
      "            ycomax             ycorms             deltap            synch_1 \n",
      "                 0                  0                  0                  0 \n",
      "\n",
      "           synch_2            synch_3            synch_4            synch_5 \n",
      "                 0                  0                  0                  0 \n",
      "\n",
      "           synch_6            synch_8             nflips              dqmin \n",
      "                 0                  0                  0                  0 \n",
      "\n",
      "       dqmin_phase \n",
      "                 0 \n",
      "\n",
      "\n",
      "! *********************************************************************\n",
      "\n",
      "! Final tune values and chromaticity\n",
      "\n",
      "! *********************************************************************\n",
      "\n",
      "\n",
      "\n",
      "value, table(summ, q1)*(nBend/4);\n",
      "\n",
      "table( summ  q1 )*(nbend/4) =         46.0000227 ;\n",
      "value, table(summ, q1)*(nBend/4);\n",
      "\n",
      "table( summ  q1 )*(nbend/4) =         46.0000227 ;\n",
      "value, table(summ, dq1);\n",
      "\n",
      "table( summ  dq1 ) =      -0.3181068348 ;\n",
      "value, table(summ, dq2);\n",
      "table( summ  dq2 ) =      -0.3181621445 ;\n"
     ]
    }
   ],
   "source": [
    "madx.call('Tutorial4.madx')"
   ]
  },
  {
   "cell_type": "markdown",
   "id": "edb4db05-5a1a-4a47-8ee2-0fa5752959e8",
   "metadata": {},
   "source": [
    "#### Now we can compute the detuning effect on an off-momentum particle"
   ]
  },
  {
   "cell_type": "markdown",
   "id": "cbc14586-a890-4f91-923a-264a1d1f3d1c",
   "metadata": {},
   "source": [
    "#### **REMEMBER** That the derivative functions in MAD-X are normalized by the relativistic factor beta.\n",
    "\n",
    "#### We could assume ultra-relativistic beam.\n",
    "\n",
    "#### In MAD-X the chromaticity and second momentum derivatives are normalized by the relativistic factor $\\beta$"
   ]
  },
  {
   "cell_type": "markdown",
   "id": "af29272d-e985-4167-a8da-30dd776fa17b",
   "metadata": {},
   "source": [
    "#### Pythonic approach to get the relativistic beta factor for our beam"
   ]
  },
  {
   "cell_type": "code",
   "execution_count": 17,
   "id": "c167d386",
   "metadata": {},
   "outputs": [
    {
     "name": "stdout",
     "output_type": "stream",
     "text": [
      "0.9999999910167906\n"
     ]
    }
   ],
   "source": [
    "beta_rel=madx.sequence['mycell'].beam.beta\n",
    "print (beta_rel)"
   ]
  },
  {
   "cell_type": "markdown",
   "id": "c23901ae-5329-4e43-8bfd-2a7dd908c520",
   "metadata": {},
   "source": [
    "#### Obtained chromaticity"
   ]
  },
  {
   "cell_type": "code",
   "execution_count": 18,
   "id": "fd9883a1",
   "metadata": {},
   "outputs": [
    {
     "name": "stdout",
     "output_type": "stream",
     "text": [
      "-0.3181068347940339\n"
     ]
    }
   ],
   "source": [
    "dq1_ref=madx.table['summ'].dq1[0]\n",
    "print(dq1_ref)"
   ]
  },
  {
   "cell_type": "markdown",
   "id": "35e84abe-0236-44ac-961f-93a34249ad45",
   "metadata": {},
   "source": [
    "#### Variation on the tune for an off-momentum particle of 1e-3"
   ]
  },
  {
   "cell_type": "code",
   "execution_count": 17,
   "id": "37c69764",
   "metadata": {},
   "outputs": [
    {
     "data": {
      "text/plain": [
       "-0.0003177280054266581"
      ]
     },
     "execution_count": 17,
     "metadata": {},
     "output_type": "execute_result"
    }
   ],
   "source": [
    "dq1_ref*beta_rel*1e-3"
   ]
  },
  {
   "cell_type": "markdown",
   "id": "c2ca903a",
   "metadata": {},
   "source": [
    "#### This detuning is quite important, this is something that we will see more clear when tracking particles in the lattice"
   ]
  },
  {
   "cell_type": "code",
   "execution_count": 19,
   "id": "dc4d3453",
   "metadata": {},
   "outputs": [
    {
     "name": "stdout",
     "output_type": "stream",
     "text": [
      "On-momentum tune\n",
      "0.2500001233433213\n",
      "Off-momentum tune\n",
      "0.24969012334332127\n"
     ]
    }
   ],
   "source": [
    "#Tune for on-momentum particles\n",
    "tune_onmomentum=madx.table['summ'].q1[0]\n",
    "print (\"On-momentum tune\")\n",
    "print(tune_onmomentum)\n",
    "\n",
    "#Tune for off-momentum particles\n",
    "tune_offmomentum=madx.table['summ'].q1[0]-0.00031\n",
    "print(\"Off-momentum tune\")\n",
    "print(tune_offmomentum)"
   ]
  },
  {
   "cell_type": "markdown",
   "id": "f6e6469f",
   "metadata": {},
   "source": [
    "#### 2. Track two particles, one with initial coordinates x, y, px, py = (1 mm, 1 mm, 0, 0) and another one with initial coordinates x, y, px, py = (100 mm, 100 mm, 0, 0) in 100 turns. Plot the horizontal and vertical phase space, x-px and y-py respectively. How do the particles move in the phase space turn after turn? Do you see the tunes? Do you see any difference between the two particles? It may help to look only at the first 4 turns to get a clear picture.\n",
    "\n",
    "\t\ttrack, dump, file = name, deltap = ??;\n",
    "\t\tstart, x = ??, px = ?? , y = ??, py = ??;\n",
    "\t\tstart, x = ??, px = ?? , y = ??, py = ??;\n",
    "\t\trun, turns = 100;\n",
    "        "
   ]
  },
  {
   "cell_type": "code",
   "execution_count": 20,
   "id": "386e1559",
   "metadata": {},
   "outputs": [
    {
     "name": "stdout",
     "output_type": "stream",
     "text": [
      "enter TRACK module\n",
      "  \n",
      "iteration:   1 error:   0.000000E+00 deltap:   0.000000E+00\n",
      "orbit:   0.000000E+00  0.000000E+00  0.000000E+00  0.000000E+00  0.000000E+00  0.000000E+00\n",
      "\n",
      "Full 6D closed orbit search.\n",
      "Initial value of 6-D closed orbit from Twiss: \n",
      "orbit0   0.000000E+00  0.000000E+00  0.000000E+00  0.000000E+00  0.000000E+00  0.000000E+00\n",
      "  Singular matrix occurred during closed orbit search.\n",
      "\n",
      "6D closed orbit found by subroutine trclor \n",
      "iteration:   2 error:   0.000000E+00 deltap:   0.000000E+00\n",
      "orbit:   0.000000E+00  0.000000E+00  0.000000E+00  0.000000E+00  0.000000E+00  0.000000E+00\n",
      "\n",
      "++++++ table: tracksumm\n",
      "\n",
      "    number       turn                  x                 px \n",
      "         1          0              0.001                  0 \n",
      "         2          0                0.1                  0 \n",
      "         1        100    0.0009998138934   -3.218533371e-09 \n",
      "         2        100      0.09938084601    -1.07214511e-05 \n",
      "\n",
      "                 y                 py                  t                 pt \n",
      "             0.001                  0                  0                  0 \n",
      "               0.1                  0                  0                  0 \n",
      "    0.001000041686   -3.253538259e-09    -8.27803412e-06                  0 \n",
      "      0.1001360721   -1.073222976e-05     -0.08277774919                  0 \n",
      "\n",
      "                 s                  e \n",
      "                 0                  0 \n",
      "                 0                  0 \n",
      "               100                  0 \n",
      "               100                  0 \n",
      "exit TRACK module\n",
      "\n"
     ]
    }
   ],
   "source": [
    "myString='''\n",
    "\n",
    "!*********************************************************************\n",
    "! TRACKING\n",
    "!*********************************************************************\n",
    "\n",
    "track,dump,file='linear_machine', DELTAP=0;\n",
    "start, x= 1e-3, px=0, y= 1e-3, py=0;\n",
    "start, x= 1e-1, px=0, y= 1e-1, py=0;\n",
    "run,turns=100;\n",
    "endtrack;\n",
    "\n",
    "'''\n",
    "madx.input(myString);"
   ]
  },
  {
   "cell_type": "markdown",
   "id": "70b32c08-d1dc-41a9-875b-52732981b6ed",
   "metadata": {},
   "source": [
    "#### When activating the option dump on the track module a new table is generated by MAD-X with the tracking results for each particle at the defined observables. In this example, only one observable is defined per particle at the entrance of the FODO cell"
   ]
  },
  {
   "cell_type": "code",
   "execution_count": 28,
   "id": "4a48a87e-cc2d-4d06-83ed-c348c231f5a6",
   "metadata": {},
   "outputs": [
    {
     "name": "stdout",
     "output_type": "stream",
     "text": [
      "['summ', 'twiss', 'beforematching', 'aftermatching', 'mytracksumm', 'tracksumm', 'track.obs0001.p0001', 'track.obs0001.p0002']\n"
     ]
    }
   ],
   "source": [
    "print(list(madx.table))"
   ]
  },
  {
   "cell_type": "markdown",
   "id": "69fc9a9c-ee71-49e5-86b2-b838bc48ab59",
   "metadata": {},
   "source": [
    "#### We can save the data in pandas dataframes "
   ]
  },
  {
   "cell_type": "code",
   "execution_count": 29,
   "id": "bdc6946b",
   "metadata": {},
   "outputs": [],
   "source": [
    "particle1=madx.table['track.obs0001.p0001'].dframe()"
   ]
  },
  {
   "cell_type": "code",
   "execution_count": 30,
   "id": "eb575174",
   "metadata": {},
   "outputs": [
    {
     "data": {
      "text/html": [
       "<div>\n",
       "<style scoped>\n",
       "    .dataframe tbody tr th:only-of-type {\n",
       "        vertical-align: middle;\n",
       "    }\n",
       "\n",
       "    .dataframe tbody tr th {\n",
       "        vertical-align: top;\n",
       "    }\n",
       "\n",
       "    .dataframe thead th {\n",
       "        text-align: right;\n",
       "    }\n",
       "</style>\n",
       "<table border=\"1\" class=\"dataframe\">\n",
       "  <thead>\n",
       "    <tr style=\"text-align: right;\">\n",
       "      <th></th>\n",
       "      <th>number</th>\n",
       "      <th>turn</th>\n",
       "      <th>x</th>\n",
       "      <th>px</th>\n",
       "      <th>y</th>\n",
       "      <th>py</th>\n",
       "      <th>t</th>\n",
       "      <th>pt</th>\n",
       "      <th>s</th>\n",
       "      <th>e</th>\n",
       "    </tr>\n",
       "  </thead>\n",
       "  <tbody>\n",
       "    <tr>\n",
       "      <th>#e</th>\n",
       "      <td>1.0</td>\n",
       "      <td>0.0</td>\n",
       "      <td>0.001000</td>\n",
       "      <td>0.000000e+00</td>\n",
       "      <td>0.001000</td>\n",
       "      <td>0.000000e+00</td>\n",
       "      <td>0.000000e+00</td>\n",
       "      <td>0.0</td>\n",
       "      <td>0.0</td>\n",
       "      <td>7000.0</td>\n",
       "    </tr>\n",
       "    <tr>\n",
       "      <th>#e</th>\n",
       "      <td>1.0</td>\n",
       "      <td>1.0</td>\n",
       "      <td>-0.002394</td>\n",
       "      <td>-4.139586e-05</td>\n",
       "      <td>0.000531</td>\n",
       "      <td>-4.141964e-05</td>\n",
       "      <td>1.997637e-05</td>\n",
       "      <td>0.0</td>\n",
       "      <td>0.0</td>\n",
       "      <td>7000.0</td>\n",
       "    </tr>\n",
       "    <tr>\n",
       "      <th>#e</th>\n",
       "      <td>1.0</td>\n",
       "      <td>2.0</td>\n",
       "      <td>-0.001000</td>\n",
       "      <td>6.437067e-11</td>\n",
       "      <td>-0.001000</td>\n",
       "      <td>6.507077e-11</td>\n",
       "      <td>6.685453e-05</td>\n",
       "      <td>0.0</td>\n",
       "      <td>0.0</td>\n",
       "      <td>7000.0</td>\n",
       "    </tr>\n",
       "    <tr>\n",
       "      <th>#e</th>\n",
       "      <td>1.0</td>\n",
       "      <td>3.0</td>\n",
       "      <td>0.002394</td>\n",
       "      <td>4.139586e-05</td>\n",
       "      <td>-0.000531</td>\n",
       "      <td>4.141964e-05</td>\n",
       "      <td>4.663536e-05</td>\n",
       "      <td>0.0</td>\n",
       "      <td>0.0</td>\n",
       "      <td>7000.0</td>\n",
       "    </tr>\n",
       "    <tr>\n",
       "      <th>#e</th>\n",
       "      <td>1.0</td>\n",
       "      <td>4.0</td>\n",
       "      <td>0.001000</td>\n",
       "      <td>-1.287413e-10</td>\n",
       "      <td>0.001000</td>\n",
       "      <td>-1.301415e-10</td>\n",
       "      <td>-3.311214e-07</td>\n",
       "      <td>0.0</td>\n",
       "      <td>0.0</td>\n",
       "      <td>7000.0</td>\n",
       "    </tr>\n",
       "  </tbody>\n",
       "</table>\n",
       "</div>"
      ],
      "text/plain": [
       "    number  turn         x            px         y            py  \\\n",
       "#e     1.0   0.0  0.001000  0.000000e+00  0.001000  0.000000e+00   \n",
       "#e     1.0   1.0 -0.002394 -4.139586e-05  0.000531 -4.141964e-05   \n",
       "#e     1.0   2.0 -0.001000  6.437067e-11 -0.001000  6.507077e-11   \n",
       "#e     1.0   3.0  0.002394  4.139586e-05 -0.000531  4.141964e-05   \n",
       "#e     1.0   4.0  0.001000 -1.287413e-10  0.001000 -1.301415e-10   \n",
       "\n",
       "               t   pt    s       e  \n",
       "#e  0.000000e+00  0.0  0.0  7000.0  \n",
       "#e  1.997637e-05  0.0  0.0  7000.0  \n",
       "#e  6.685453e-05  0.0  0.0  7000.0  \n",
       "#e  4.663536e-05  0.0  0.0  7000.0  \n",
       "#e -3.311214e-07  0.0  0.0  7000.0  "
      ]
     },
     "execution_count": 30,
     "metadata": {},
     "output_type": "execute_result"
    }
   ],
   "source": [
    "particle1.head()"
   ]
  },
  {
   "cell_type": "markdown",
   "id": "332af791-4809-4ec7-8d41-6855003c3995",
   "metadata": {},
   "source": [
    "#### Now we can plot the horizontal and vertical phase space."
   ]
  },
  {
   "cell_type": "markdown",
   "id": "232cb2ab-a66f-4a62-b87e-0c0ce4352261",
   "metadata": {},
   "source": [
    "#### Horizontal"
   ]
  },
  {
   "cell_type": "code",
   "execution_count": 31,
   "id": "7db2af09",
   "metadata": {},
   "outputs": [
    {
     "data": {
      "text/plain": [
       "<matplotlib.legend.Legend at 0x1653a8210>"
      ]
     },
     "execution_count": 31,
     "metadata": {},
     "output_type": "execute_result"
    },
    {
     "data": {
      "image/png": "[encoded data removed]",
      "text/plain": [
       "<Figure size 640x480 with 1 Axes>"
      ]
     },
     "metadata": {},
     "output_type": "display_data"
    }
   ],
   "source": [
    "plt.rcParams['figure.dpi'] = 100\n",
    "plt.plot(particle1['x'],particle1['px'],'ob',label='X-phase space')\n",
    "plt.plot(particle1['y'],particle1['py'],'or',label='Y-phase space')\n",
    "plt.xlabel('x,y[m]')\n",
    "plt.ylabel('px,py')\n",
    "plt.legend(loc='best')\n",
    "#plt.xlim(-0.003,0.003)\n",
    "#plt.ylim(-5e-5, 5e-5)"
   ]
  },
  {
   "cell_type": "markdown",
   "id": "c6e16db9-6d0e-4166-b43a-00aa64ceabd3",
   "metadata": {},
   "source": [
    "#### In order to understand better the plot, it is useful to plot the different turns with dfferent markers and only show the coordinates up to the fifth turn"
   ]
  },
  {
   "cell_type": "code",
   "execution_count": 32,
   "id": "0a94a81b",
   "metadata": {},
   "outputs": [
    {
     "data": {
      "text/plain": [
       "(-5e-05, 5e-05)"
      ]
     },
     "execution_count": 32,
     "metadata": {},
     "output_type": "execute_result"
    },
    {
     "data": {
      "image/png": "[encoded data removed]",
      "text/plain": [
       "<Figure size 640x480 with 1 Axes>"
      ]
     },
     "metadata": {},
     "output_type": "display_data"
    }
   ],
   "source": [
    "plt.rcParams['figure.dpi'] = 100\n",
    "turn0=particle1[particle1[\"turn\"]==0]\n",
    "turn1=particle1[particle1[\"turn\"]==1]\n",
    "turn2=particle1[particle1[\"turn\"]==2]\n",
    "turn3=particle1[particle1[\"turn\"]==3]\n",
    "turn4=particle1[particle1[\"turn\"]==4]\n",
    "turn5=particle1[particle1[\"turn\"]==5]\n",
    "plt.plot(turn0['x']*1e3,turn0['px'],'xb',markersize=12,label='turn0')\n",
    "plt.plot(turn1['x']*1e3,turn1['px'],'xr',markersize=12,label='turn1')\n",
    "plt.plot(turn2['x']*1e3,turn2['px'],'xg',markersize=12,label='turn2')\n",
    "plt.plot(turn3['x']*1e3,turn3['px'],'xy',markersize=12,label='turn3')\n",
    "plt.plot(turn4['x']*1e3,turn4['px'],'ob',label='turn4')\n",
    "plt.plot(turn5['x']*1e3,turn5['px'],'or',label='turn5')\n",
    "plt.xlabel('x [mm]')\n",
    "plt.ylabel('px')\n",
    "plt.legend(loc='best')\n",
    "plt.xlim(-3,3)\n",
    "plt.ylim(-5e-5, 5e-5)"
   ]
  },
  {
   "cell_type": "markdown",
   "id": "13f28118-c61d-4bd3-a315-e3559c5a4983",
   "metadata": {},
   "source": [
    "#### After each 4 turns the phase space coordinate repeats due to the tune being 0.25 "
   ]
  },
  {
   "cell_type": "markdown",
   "id": "f4c26660-036d-48e5-be11-0d65b2bcd3bc",
   "metadata": {},
   "source": [
    "#### We can now plot the results for the second particle with an initial amplitude larger than the first one"
   ]
  },
  {
   "cell_type": "code",
   "execution_count": 35,
   "id": "ca599c93",
   "metadata": {},
   "outputs": [],
   "source": [
    "particle2=madx.table['track.obs0001.p0002'].dframe()"
   ]
  },
  {
   "cell_type": "code",
   "execution_count": 36,
   "id": "d80376cf",
   "metadata": {},
   "outputs": [
    {
     "data": {
      "text/plain": [
       "<matplotlib.legend.Legend at 0x1652ec590>"
      ]
     },
     "execution_count": 36,
     "metadata": {},
     "output_type": "execute_result"
    },
    {
     "data": {
      "image/png": "[encoded data removed]",
      "text/plain": [
       "<Figure size 640x480 with 1 Axes>"
      ]
     },
     "metadata": {},
     "output_type": "display_data"
    }
   ],
   "source": [
    "plt.rcParams['figure.dpi'] = 100\n",
    "plt.plot(particle2['x'],particle2['px'],'ob',label='X-phase space')\n",
    "plt.plot(particle2['y'],particle2['py'],'or',label='Y-phase space')\n",
    "plt.xlabel('x,y [m]')\n",
    "plt.ylabel('px,py')\n",
    "plt.legend(loc='best')\n",
    "#plt.xlim(-0.003,0.003)\n",
    "#plt.ylim(-5e-5, 5e-5)"
   ]
  },
  {
   "cell_type": "code",
   "execution_count": 37,
   "id": "922e8b2a",
   "metadata": {},
   "outputs": [
    {
     "data": {
      "text/plain": [
       "<matplotlib.legend.Legend at 0x1653be050>"
      ]
     },
     "execution_count": 37,
     "metadata": {},
     "output_type": "execute_result"
    },
    {
     "data": {
      "image/png": "[encoded data removed]",
      "text/plain": [
       "<Figure size 640x480 with 1 Axes>"
      ]
     },
     "metadata": {},
     "output_type": "display_data"
    }
   ],
   "source": [
    "# Plot visualization options\n",
    "plt.rcParams['figure.dpi'] = 100\n",
    "turn0=particle2[particle2[\"turn\"]==0]\n",
    "turn1=particle2[particle2[\"turn\"]==1]\n",
    "turn2=particle2[particle2[\"turn\"]==2]\n",
    "turn3=particle2[particle2[\"turn\"]==3]\n",
    "turn4=particle2[particle2[\"turn\"]==4]\n",
    "turn5=particle2[particle2[\"turn\"]==5]\n",
    "plt.plot(turn0['x']*1e3,turn0['px'],'xb',markersize=12,label='turn0')\n",
    "plt.plot(turn1['x']*1e3,turn1['px'],'xr',markersize=12,label='turn1')\n",
    "plt.plot(turn2['x']*1e3,turn2['px'],'xg',markersize=12,label='turn2')\n",
    "plt.plot(turn3['x']*1e3,turn3['px'],'xy',markersize=12,label='turn3')\n",
    "plt.plot(turn4['x']*1e3,turn4['px'],'ob',label='turn4')\n",
    "plt.plot(turn5['x']*1e3,turn5['px'],'or',label='turn5')\n",
    "plt.xlabel('x [mm]')\n",
    "plt.ylabel('px')\n",
    "plt.legend(loc='best')"
   ]
  },
  {
   "cell_type": "markdown",
   "id": "cf626168-5740-4d14-96f6-5ebfa6394cf7",
   "metadata": {},
   "source": [
    "#### Answer: We obtain a similar plot as before but with larger amplitues."
   ]
  },
  {
   "cell_type": "markdown",
   "id": "9b54f1f7-c766-45f2-beb1-f93338e440bd",
   "metadata": {},
   "source": [
    "#### In order to see the difference between the two particles, we can also plot the amplitude vs the turn number"
   ]
  },
  {
   "cell_type": "code",
   "execution_count": 38,
   "id": "b837cf6c",
   "metadata": {},
   "outputs": [
    {
     "data": {
      "image/png": "[encoded data removed]",
      "text/plain": [
       "<Figure size 640x480 with 1 Axes>"
      ]
     },
     "metadata": {},
     "output_type": "display_data"
    }
   ],
   "source": [
    "# We can also plot the amplitude of the particle vs the turn number\n",
    "# Plot visualization options\n",
    "plt.rcParams['figure.dpi'] = 100\n",
    "plt.plot(particle1['turn'],particle1['x'],'.-b', label='Particle 1')\n",
    "plt.plot(particle2['turn'],particle2['x'],'.-r', label='Particle 2')\n",
    "plt.xlabel('Turn')\n",
    "plt.ylabel('x [m]');\n",
    "plt.legend(loc='best');"
   ]
  },
  {
   "cell_type": "markdown",
   "id": "707b055c-bf67-47e6-a7cd-afd87c93e009",
   "metadata": {},
   "source": [
    "#### Both particles are stable, but with different amplitude"
   ]
  },
  {
   "cell_type": "markdown",
   "id": "298a41bb-007c-4f20-8ca9-dbc30b3a2e2f",
   "metadata": {},
   "source": [
    "#### One can use this data to compute the tune by making a FFT analysis"
   ]
  },
  {
   "cell_type": "code",
   "execution_count": 39,
   "id": "e5dab9a4",
   "metadata": {},
   "outputs": [
    {
     "data": {
      "image/png": "[encoded data removed]",
      "text/plain": [
       "<Figure size 640x480 with 1 Axes>"
      ]
     },
     "metadata": {},
     "output_type": "display_data"
    }
   ],
   "source": [
    "plt.rcParams['figure.dpi'] = 100\n",
    "# The amplitude of the FFT of the particle amplitude oscilations gives as a mesure of the tune\n",
    "plt.figure()\n",
    "plt.plot(np.linspace(0,1,len(particle1['x'])), np.abs(np.fft.fft(particle1['x'])), 'b',label='Particle 1')\n",
    "plt.plot(np.linspace(0,1,len(particle2['x'])), np.abs(np.fft.fft(particle2['x'])), 'r',label='Particle 2')\n",
    "plt.xlabel('Q1 from X')\n",
    "plt.ylabel('FFT amplitude [arb. units]');\n",
    "plt.xlim(0,0.5)# The max. possible frequency for a given sampling rate that can be reconstruct is given by the Nyquist limit= sampling frecuency/2. In our case the sampling rate is 1, so the limit is 0.5.\n",
    "#plt.grid()\n",
    "plt.legend(loc='best');"
   ]
  },
  {
   "cell_type": "markdown",
   "id": "75134021",
   "metadata": {},
   "source": [
    "#### 3. Repeat the tracking exercise but now for two of-momentum particles by adding a $\\Delta p/p = 10^{-2}$ to the initial particles' conditions. How does the phase space look now? Is the tune still the same?"
   ]
  },
  {
   "cell_type": "code",
   "execution_count": 40,
   "id": "56658a28",
   "metadata": {},
   "outputs": [
    {
     "name": "stdout",
     "output_type": "stream",
     "text": [
      "enter TRACK module\n",
      "track_deltap:               0.01\n",
      "  \n",
      "iteration:   1 error:   2.199560E-02 deltap:   1.000000E-02\n",
      "orbit:   2.278770E-02  3.342536E-04  0.000000E+00  0.000000E+00  0.000000E+00  0.000000E+00\n",
      "  \n",
      "iteration:   2 error:   4.510281E-17 deltap:   1.000000E-02\n",
      "orbit:   2.278770E-02  3.342536E-04  0.000000E+00  0.000000E+00  0.000000E+00  0.000000E+00\n",
      "\n",
      "++++++ table: tracksumm\n",
      "\n",
      "    number       turn                  x                 px \n",
      "         1          0              0.001                  0 \n",
      "         2          0                0.1                  0 \n",
      "         1        100     0.002282598787    4.969782628e-05 \n",
      "         2        100       0.1797793756     0.003794178386 \n",
      "\n",
      "                 y                 py                  t                 pt \n",
      "             0.001                  0                  0     0.009999999911 \n",
      "               0.1                  0                  0     0.009999999911 \n",
      "  -0.0008810511785    3.780001354e-05     -0.05598160765     0.009999999911 \n",
      "    -0.08793286135     0.003783732205      -0.1302283713     0.009999999911 \n",
      "\n",
      "                 s                  e \n",
      "                 0                  0 \n",
      "                 0                  0 \n",
      "               100                  0 \n",
      "               100                  0 \n",
      "exit TRACK module\n",
      "\n"
     ]
    }
   ],
   "source": [
    "myString='''\n",
    "//*************************************************//\n",
    "!   TRACKING\n",
    "//*************************************************//\n",
    "\n",
    "track,dump,file='linear_machine_off_energy', DELTAP=0.01;\n",
    "start, x= 1e-3, px=0, y= 1e-3, py=0;\n",
    "start, x= 1e-1, px=0, y= 1e-1, py=0;\n",
    "run,turns=100;\n",
    "endtrack;\n",
    "\n",
    "'''\n",
    "madx.input(myString);"
   ]
  },
  {
   "cell_type": "markdown",
   "id": "5a8e0f95-4328-4e35-8bf0-5983f5b6a68e",
   "metadata": {},
   "source": [
    "#### Saving the off-momentum tracking data"
   ]
  },
  {
   "cell_type": "code",
   "execution_count": 42,
   "id": "7d8d7785",
   "metadata": {},
   "outputs": [],
   "source": [
    "off_momentum_particle1=madx.table['track.obs0001.p0001'].dframe()\n",
    "off_momentum_particle2=madx.table['track.obs0001.p0002'].dframe()"
   ]
  },
  {
   "cell_type": "markdown",
   "id": "b0a61103-4f90-4227-8b8d-cb8bf9690d85",
   "metadata": {},
   "source": [
    "#### Plot"
   ]
  },
  {
   "cell_type": "code",
   "execution_count": 50,
   "id": "642a1dde",
   "metadata": {},
   "outputs": [
    {
     "data": {
      "text/plain": [
       "<matplotlib.legend.Legend at 0x166d45310>"
      ]
     },
     "execution_count": 50,
     "metadata": {},
     "output_type": "execute_result"
    },
    {
     "data": {
      "image/png": "[encoded data removed]",
      "text/plain": [
       "<Figure size 1200x600 with 2 Axes>"
      ]
     },
     "metadata": {},
     "output_type": "display_data"
    }
   ],
   "source": [
    "plt.rcParams['figure.dpi'] = 100\n",
    "\n",
    "fig, (ax1,ax2)=plt.subplots(1,2, figsize=(12,6))\n",
    "ax1.plot(off_momentum_particle1['x'],off_momentum_particle1['px'],'ob',label='X-phase space')\n",
    "ax1.plot(off_momentum_particle1['y'],off_momentum_particle1['py'],'.r',label='Y-phase space')\n",
    "ax1.set_xlabel('x,y [m]')\n",
    "ax1.set_ylabel('px,py')\n",
    "ax1.legend(loc='best')\n",
    "\n",
    "ax2.plot(off_momentum_particle2['x'],off_momentum_particle2['px'],'ob',label='X-phase space')\n",
    "ax2.plot(off_momentum_particle2['y'],off_momentum_particle2['py'],'.r',label='Y-phase space')\n",
    "ax2.set_xlabel('x [m]')\n",
    "ax2.set_ylabel('px')\n",
    "ax2.legend(loc='best')"
   ]
  },
  {
   "cell_type": "markdown",
   "id": "88c72bdd-ec49-49e9-b45f-2785fe190c85",
   "metadata": {},
   "source": [
    "#### As we track off-momentum particles the tune is affected by the natural chromaticity of the FODO and it is not 0.25 anymore. The particles coordinates don't repeat each 4 turns anymore but the motion of the particle is still stable"
   ]
  },
  {
   "cell_type": "markdown",
   "id": "662ceead-6ec0-45a6-b4e6-f4d9db7dd51d",
   "metadata": {},
   "source": [
    "#### The observed effect is small, however in machines with stronger quadrupoles the impact could be higher and the tune spread can lead to unstable motion due to resonances. Therefore, correction schemes are needed such as the one we will design in the next tutorial."
   ]
  }
 ],
 "metadata": {
  "kernelspec": {
   "display_name": "Python 3 (ipykernel)",
   "language": "python",
   "name": "python3"
  },
  "language_info": {
   "codemirror_mode": {
    "name": "ipython",
    "version": 3
   },
   "file_extension": ".py",
   "mimetype": "text/x-python",
   "name": "python",
   "nbconvert_exporter": "python",
   "pygments_lexer": "ipython3",
   "version": "3.11.5"
  }
 },
 "nbformat": 4,
 "nbformat_minor": 5
}
