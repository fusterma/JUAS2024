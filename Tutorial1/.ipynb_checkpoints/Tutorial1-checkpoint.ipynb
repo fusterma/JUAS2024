{
 "cells": [
  {
   "cell_type": "markdown",
   "id": "a3243818",
   "metadata": {
    "tags": []
   },
   "source": [
    "# Tutorial 1: My first accelerator, a FODO cell"
   ]
  },
  {
   "cell_type": "markdown",
   "id": "c223cfa3-f5ce-4c1a-b9a9-a99f316abc24",
   "metadata": {},
   "source": [
    "# Python libraries \n",
    "\n",
    "The python universe has a huge number of libraries that extend the capabilities of python. Nearly all of these are open source. The first thing that we need to do is to import the ones that we want to use."
   ]
  },
  {
   "cell_type": "code",
   "execution_count": 88,
   "id": "87cb2af8-a01b-4481-97e3-0d012de5477b",
   "metadata": {
    "tags": []
   },
   "outputs": [],
   "source": [
    "#########################################\n",
    "# Python libraries                      #\n",
    "#########################################\n",
    "from matplotlib import pyplot as plt\n",
    "import numpy as np\n",
    "import pandas as pd\n",
    "\n",
    "#########################################\n",
    "# Cpymad library                        #\n",
    "#########################################\n",
    "from cpymad.madx import Madx "
   ]
  },
  {
   "cell_type": "markdown",
   "id": "b3023598-e4d4-4a1b-81fc-08a7e6624d91",
   "metadata": {},
   "source": [
    "More on the cpymad library: http://hibtc.github.io/cpymad/getting-started"
   ]
  },
  {
   "cell_type": "markdown",
   "id": "cdb7df26-fa62-4a9f-ad0b-e0d2f71e0784",
   "metadata": {},
   "source": [
    "# Launching MAD-X"
   ]
  },
  {
   "cell_type": "code",
   "execution_count": 109,
   "id": "202123a9-4148-4ed1-9ebe-41ffe6c70c76",
   "metadata": {
    "tags": []
   },
   "outputs": [
    {
     "name": "stdout",
     "output_type": "stream",
     "text": [
      "\n",
      "  ++++++++++++++++++++++++++++++++++++++++++++\n",
      "  +     MAD-X 5.09.00  (64 bit, Darwin)      +\n",
      "  + Support: mad@cern.ch, http://cern.ch/mad +\n",
      "  + Release   date: 2023.05.05               +\n",
      "  + Execution date: 2024.01.02 11:33:50      +\n",
      "  ++++++++++++++++++++++++++++++++++++++++++++\n"
     ]
    }
   ],
   "source": [
    "madx = Madx()\n",
    "# In order to see some MAD-X output in the terminal for some operating sysems the following command is needed:\n",
    "# madx = Madx(stdout=True)"
   ]
  },
  {
   "cell_type": "markdown",
   "id": "b8797183-733a-46d5-ac7a-bfd7c20367fe",
   "metadata": {},
   "source": [
    "#### Note that if MAD-X encounters an error while executing any command, the process will terminate, and you will need to relaunch it"
   ]
  },
  {
   "cell_type": "markdown",
   "id": "c262888a-2a97-424d-a851-27d8f98ce571",
   "metadata": {},
   "source": [
    "# Questions"
   ]
  },
  {
   "cell_type": "markdown",
   "id": "0448521a-646a-47f1-8d76-0b04fbe73d94",
   "metadata": {},
   "source": [
    "#### 1. Define the FODO lattice as described in the statement"
   ]
  },
  {
   "cell_type": "code",
   "execution_count": 110,
   "id": "9a6dbae4",
   "metadata": {
    "tags": []
   },
   "outputs": [
    {
     "name": "stdout",
     "output_type": "stream",
     "text": [
      "! *********************************************************************\n",
      "\n",
      "! Definition of parameters\n",
      "\n",
      "! *********************************************************************\n",
      "\n",
      "\n",
      "\n",
      "l_cell=100;\n",
      "\n",
      "quadrupolelength=5;\n",
      "\n",
      "f=200;\n",
      "\n",
      "myk:=1/f/quadrupolelength;\n",
      "\n",
      "\n",
      "\n",
      "! *********************************************************************\n",
      "\n",
      "! Definition of magnets\n",
      "\n",
      "! ********************************************************************* \n",
      "\n",
      "\n",
      "\n",
      "qf: quadrupole, l=quadrupolelength, k1:=myk;\n",
      "\n",
      "qd: quadrupole, l=quadrupolelength, k1:=-myk;\n",
      "\n",
      "\n",
      "\n",
      "\n",
      "\n",
      "! *********************************************************************\n",
      "\n",
      "! Definition of sequence\n",
      "\n",
      "! *********************************************************************\n",
      "\n",
      "\n",
      "\n",
      "myCell:sequence, refer=entry, l=l_cell;\n",
      "\n",
      "quadrupole1: qf, at=0;\n",
      "\n",
      "marker1: marker, at=25;\n",
      "\n",
      "quadrupole2: qd, at=50;\n",
      "\n",
      "marker2: marker, at=75;\n",
      "\n",
      "endsequence;\n",
      "\n",
      "\n",
      "\n"
     ]
    }
   ],
   "source": [
    "madx.call('Tutorial1.madx')"
   ]
  },
  {
   "cell_type": "markdown",
   "id": "fb482c5d-0a0a-41de-a3cb-152d08918cb1",
   "metadata": {},
   "source": [
    "#### Then, we define a proton beam, activate the sequence and compute the linear optics functions"
   ]
  },
  {
   "cell_type": "code",
   "execution_count": 111,
   "id": "6ab7b105-41fc-459e-bf41-41637d9a29ad",
   "metadata": {
    "tags": []
   },
   "outputs": [],
   "source": [
    "myString='''\n",
    "\n",
    "! *********************************************************************\n",
    "! Definition of beam\n",
    "! *********************************************************************\n",
    "\n",
    "beam, particle=proton, energy=2;\n",
    "\n",
    "! *********************************************************************\n",
    "! Use of the sequence\n",
    "! *********************************************************************\n",
    "\n",
    "use, sequence=myCell;\n",
    "\n",
    "! *********************************************************************\n",
    "! TWISS\n",
    "! *********************************************************************\n",
    "\n",
    "select, flag=twiss, column=name, keyword,s,betx,alfx,mux,bety,alfy,muy;\n",
    "\n",
    "twiss, file=MyfirstFODO.txt;\n",
    "\n",
    "'''"
   ]
  },
  {
   "cell_type": "code",
   "execution_count": 112,
   "id": "1bc52adf-4471-4b5c-99e7-11632959e226",
   "metadata": {
    "tags": []
   },
   "outputs": [
    {
     "name": "stdout",
     "output_type": "stream",
     "text": [
      "enter Twiss module\n",
      "  \n",
      "iteration:   1 error:   0.000000E+00 deltap:   0.000000E+00\n",
      "orbit:   0.000000E+00  0.000000E+00  0.000000E+00  0.000000E+00  0.000000E+00  0.000000E+00\n",
      "\n",
      "++++++ table: summ\n",
      "\n",
      "            length             orbit5               alfa            gammatr \n",
      "               100                 -0                  0                  0 \n",
      "\n",
      "                q1                dq1            betxmax              dxmax \n",
      "     0.03853349451     -0.04384718845        463.6232883                  0 \n",
      "\n",
      "             dxrms             xcomax             xcorms                 q2 \n",
      "                 0                  0                  0      0.03853349451 \n",
      "\n",
      "               dq2            betymax              dymax              dyrms \n",
      "    -0.04384718845        463.6232883                  0                  0 \n",
      "\n",
      "            ycomax             ycorms             deltap            synch_1 \n",
      "                 0                  0                  0                  0 \n",
      "\n",
      "           synch_2            synch_3            synch_4            synch_5 \n",
      "                 0                  0                  0                  0 \n",
      "\n",
      "           synch_6            synch_8             nflips              dqmin \n",
      "                 0                  0                  0                  0 \n",
      "\n",
      "       dqmin_phase \n",
      "      0.7706482429 \n"
     ]
    },
    {
     "data": {
      "text/plain": [
       "True"
      ]
     },
     "execution_count": 112,
     "metadata": {},
     "output_type": "execute_result"
    }
   ],
   "source": [
    "madx.input(myString)"
   ]
  },
  {
   "cell_type": "markdown",
   "id": "85e6584d-d087-41b3-9ad8-44ed2ef265f0",
   "metadata": {
    "tags": []
   },
   "source": [
    "#### In the following, we are going to see how to access the MAD-X output data with python-cpymad functions and plot results with the matplotlib library"
   ]
  },
  {
   "cell_type": "markdown",
   "id": "3577ec0f-34ea-489a-ab96-87653a717e5e",
   "metadata": {},
   "source": [
    "#### First we can check the list of existing output table names"
   ]
  },
  {
   "cell_type": "code",
   "execution_count": 114,
   "id": "42c47b28-b9bc-42cc-b0b2-404fe935ee33",
   "metadata": {
    "tags": []
   },
   "outputs": [
    {
     "name": "stdout",
     "output_type": "stream",
     "text": [
      "['summ', 'twiss']\n"
     ]
    }
   ],
   "source": [
    "print(list(madx.table))"
   ]
  },
  {
   "cell_type": "markdown",
   "id": "12c34e9a-e540-4b06-8016-ed0de8cccbff",
   "metadata": {},
   "source": [
    "#### And save the data in a pandas dataframe "
   ]
  },
  {
   "cell_type": "code",
   "execution_count": 115,
   "id": "c0689e89-8151-4228-b959-9c01c3fe84c8",
   "metadata": {
    "tags": []
   },
   "outputs": [],
   "source": [
    "myDF=madx.table.twiss.dframe()"
   ]
  },
  {
   "cell_type": "code",
   "execution_count": 116,
   "id": "f5127afd-5cfb-4b32-a393-261ae0a14228",
   "metadata": {
    "tags": []
   },
   "outputs": [
    {
     "data": {
      "text/html": [
       "<div>\n",
       "<style scoped>\n",
       "    .dataframe tbody tr th:only-of-type {\n",
       "        vertical-align: middle;\n",
       "    }\n",
       "\n",
       "    .dataframe tbody tr th {\n",
       "        vertical-align: top;\n",
       "    }\n",
       "\n",
       "    .dataframe thead th {\n",
       "        text-align: right;\n",
       "    }\n",
       "</style>\n",
       "<table border=\"1\" class=\"dataframe\">\n",
       "  <thead>\n",
       "    <tr style=\"text-align: right;\">\n",
       "      <th></th>\n",
       "      <th>name</th>\n",
       "      <th>keyword</th>\n",
       "      <th>s</th>\n",
       "      <th>betx</th>\n",
       "      <th>alfx</th>\n",
       "      <th>mux</th>\n",
       "      <th>bety</th>\n",
       "      <th>alfy</th>\n",
       "      <th>muy</th>\n",
       "      <th>x</th>\n",
       "      <th>...</th>\n",
       "      <th>sig54</th>\n",
       "      <th>sig55</th>\n",
       "      <th>sig56</th>\n",
       "      <th>sig61</th>\n",
       "      <th>sig62</th>\n",
       "      <th>sig63</th>\n",
       "      <th>sig64</th>\n",
       "      <th>sig65</th>\n",
       "      <th>sig66</th>\n",
       "      <th>n1</th>\n",
       "    </tr>\n",
       "  </thead>\n",
       "  <tbody>\n",
       "    <tr>\n",
       "      <th>#s</th>\n",
       "      <td>mycell$start:1</td>\n",
       "      <td>marker</td>\n",
       "      <td>0.0</td>\n",
       "      <td>467.729898</td>\n",
       "      <td>-1.154818</td>\n",
       "      <td>0.000000</td>\n",
       "      <td>373.899421</td>\n",
       "      <td>0.930304</td>\n",
       "      <td>0.000000</td>\n",
       "      <td>0.0</td>\n",
       "      <td>...</td>\n",
       "      <td>0.0</td>\n",
       "      <td>0.0</td>\n",
       "      <td>0.0</td>\n",
       "      <td>0.0</td>\n",
       "      <td>0.0</td>\n",
       "      <td>0.0</td>\n",
       "      <td>0.0</td>\n",
       "      <td>0.0</td>\n",
       "      <td>0.0</td>\n",
       "      <td>0.0</td>\n",
       "    </tr>\n",
       "    <tr>\n",
       "      <th>quadrupole1</th>\n",
       "      <td>quadrupole1:1</td>\n",
       "      <td>quadrupole</td>\n",
       "      <td>5.0</td>\n",
       "      <td>467.729898</td>\n",
       "      <td>1.154818</td>\n",
       "      <td>0.001694</td>\n",
       "      <td>373.899421</td>\n",
       "      <td>-0.930304</td>\n",
       "      <td>0.002137</td>\n",
       "      <td>0.0</td>\n",
       "      <td>...</td>\n",
       "      <td>0.0</td>\n",
       "      <td>0.0</td>\n",
       "      <td>0.0</td>\n",
       "      <td>0.0</td>\n",
       "      <td>0.0</td>\n",
       "      <td>0.0</td>\n",
       "      <td>0.0</td>\n",
       "      <td>0.0</td>\n",
       "      <td>0.0</td>\n",
       "      <td>0.0</td>\n",
       "    </tr>\n",
       "    <tr>\n",
       "      <th>drift_0[0]</th>\n",
       "      <td>drift_0:0</td>\n",
       "      <td>drift</td>\n",
       "      <td>25.0</td>\n",
       "      <td>423.532856</td>\n",
       "      <td>1.055034</td>\n",
       "      <td>0.008848</td>\n",
       "      <td>413.107248</td>\n",
       "      <td>-1.030088</td>\n",
       "      <td>0.010240</td>\n",
       "      <td>0.0</td>\n",
       "      <td>...</td>\n",
       "      <td>0.0</td>\n",
       "      <td>0.0</td>\n",
       "      <td>0.0</td>\n",
       "      <td>0.0</td>\n",
       "      <td>0.0</td>\n",
       "      <td>0.0</td>\n",
       "      <td>0.0</td>\n",
       "      <td>0.0</td>\n",
       "      <td>0.0</td>\n",
       "      <td>0.0</td>\n",
       "    </tr>\n",
       "    <tr>\n",
       "      <th>marker1</th>\n",
       "      <td>marker1:1</td>\n",
       "      <td>marker</td>\n",
       "      <td>25.0</td>\n",
       "      <td>423.532856</td>\n",
       "      <td>1.055034</td>\n",
       "      <td>0.008848</td>\n",
       "      <td>413.107248</td>\n",
       "      <td>-1.030088</td>\n",
       "      <td>0.010240</td>\n",
       "      <td>0.0</td>\n",
       "      <td>...</td>\n",
       "      <td>0.0</td>\n",
       "      <td>0.0</td>\n",
       "      <td>0.0</td>\n",
       "      <td>0.0</td>\n",
       "      <td>0.0</td>\n",
       "      <td>0.0</td>\n",
       "      <td>0.0</td>\n",
       "      <td>0.0</td>\n",
       "      <td>0.0</td>\n",
       "      <td>0.0</td>\n",
       "    </tr>\n",
       "    <tr>\n",
       "      <th>drift_1[0]</th>\n",
       "      <td>drift_1:0</td>\n",
       "      <td>drift</td>\n",
       "      <td>50.0</td>\n",
       "      <td>373.899421</td>\n",
       "      <td>0.930304</td>\n",
       "      <td>0.018854</td>\n",
       "      <td>467.729898</td>\n",
       "      <td>-1.154818</td>\n",
       "      <td>0.019296</td>\n",
       "      <td>0.0</td>\n",
       "      <td>...</td>\n",
       "      <td>0.0</td>\n",
       "      <td>0.0</td>\n",
       "      <td>0.0</td>\n",
       "      <td>0.0</td>\n",
       "      <td>0.0</td>\n",
       "      <td>0.0</td>\n",
       "      <td>0.0</td>\n",
       "      <td>0.0</td>\n",
       "      <td>0.0</td>\n",
       "      <td>0.0</td>\n",
       "    </tr>\n",
       "    <tr>\n",
       "      <th>quadrupole2</th>\n",
       "      <td>quadrupole2:1</td>\n",
       "      <td>quadrupole</td>\n",
       "      <td>55.0</td>\n",
       "      <td>373.899421</td>\n",
       "      <td>-0.930304</td>\n",
       "      <td>0.020991</td>\n",
       "      <td>467.729898</td>\n",
       "      <td>1.154818</td>\n",
       "      <td>0.020991</td>\n",
       "      <td>0.0</td>\n",
       "      <td>...</td>\n",
       "      <td>0.0</td>\n",
       "      <td>0.0</td>\n",
       "      <td>0.0</td>\n",
       "      <td>0.0</td>\n",
       "      <td>0.0</td>\n",
       "      <td>0.0</td>\n",
       "      <td>0.0</td>\n",
       "      <td>0.0</td>\n",
       "      <td>0.0</td>\n",
       "      <td>0.0</td>\n",
       "    </tr>\n",
       "    <tr>\n",
       "      <th>drift_2[0]</th>\n",
       "      <td>drift_2:0</td>\n",
       "      <td>drift</td>\n",
       "      <td>75.0</td>\n",
       "      <td>413.107248</td>\n",
       "      <td>-1.030088</td>\n",
       "      <td>0.029094</td>\n",
       "      <td>423.532856</td>\n",
       "      <td>1.055034</td>\n",
       "      <td>0.028145</td>\n",
       "      <td>0.0</td>\n",
       "      <td>...</td>\n",
       "      <td>0.0</td>\n",
       "      <td>0.0</td>\n",
       "      <td>0.0</td>\n",
       "      <td>0.0</td>\n",
       "      <td>0.0</td>\n",
       "      <td>0.0</td>\n",
       "      <td>0.0</td>\n",
       "      <td>0.0</td>\n",
       "      <td>0.0</td>\n",
       "      <td>0.0</td>\n",
       "    </tr>\n",
       "    <tr>\n",
       "      <th>marker2</th>\n",
       "      <td>marker2:1</td>\n",
       "      <td>marker</td>\n",
       "      <td>75.0</td>\n",
       "      <td>413.107248</td>\n",
       "      <td>-1.030088</td>\n",
       "      <td>0.029094</td>\n",
       "      <td>423.532856</td>\n",
       "      <td>1.055034</td>\n",
       "      <td>0.028145</td>\n",
       "      <td>0.0</td>\n",
       "      <td>...</td>\n",
       "      <td>0.0</td>\n",
       "      <td>0.0</td>\n",
       "      <td>0.0</td>\n",
       "      <td>0.0</td>\n",
       "      <td>0.0</td>\n",
       "      <td>0.0</td>\n",
       "      <td>0.0</td>\n",
       "      <td>0.0</td>\n",
       "      <td>0.0</td>\n",
       "      <td>0.0</td>\n",
       "    </tr>\n",
       "    <tr>\n",
       "      <th>drift_3[0]</th>\n",
       "      <td>drift_3:0</td>\n",
       "      <td>drift</td>\n",
       "      <td>100.0</td>\n",
       "      <td>467.729898</td>\n",
       "      <td>-1.154818</td>\n",
       "      <td>0.038150</td>\n",
       "      <td>373.899421</td>\n",
       "      <td>0.930304</td>\n",
       "      <td>0.038150</td>\n",
       "      <td>0.0</td>\n",
       "      <td>...</td>\n",
       "      <td>0.0</td>\n",
       "      <td>0.0</td>\n",
       "      <td>0.0</td>\n",
       "      <td>0.0</td>\n",
       "      <td>0.0</td>\n",
       "      <td>0.0</td>\n",
       "      <td>0.0</td>\n",
       "      <td>0.0</td>\n",
       "      <td>0.0</td>\n",
       "      <td>0.0</td>\n",
       "    </tr>\n",
       "    <tr>\n",
       "      <th>#e</th>\n",
       "      <td>mycell$end:1</td>\n",
       "      <td>marker</td>\n",
       "      <td>100.0</td>\n",
       "      <td>467.729898</td>\n",
       "      <td>-1.154818</td>\n",
       "      <td>0.038150</td>\n",
       "      <td>373.899421</td>\n",
       "      <td>0.930304</td>\n",
       "      <td>0.038150</td>\n",
       "      <td>0.0</td>\n",
       "      <td>...</td>\n",
       "      <td>0.0</td>\n",
       "      <td>0.0</td>\n",
       "      <td>0.0</td>\n",
       "      <td>0.0</td>\n",
       "      <td>0.0</td>\n",
       "      <td>0.0</td>\n",
       "      <td>0.0</td>\n",
       "      <td>0.0</td>\n",
       "      <td>0.0</td>\n",
       "      <td>0.0</td>\n",
       "    </tr>\n",
       "  </tbody>\n",
       "</table>\n",
       "<p>10 rows × 256 columns</p>\n",
       "</div>"
      ],
      "text/plain": [
       "                       name     keyword      s        betx      alfx  \\\n",
       "#s           mycell$start:1      marker    0.0  467.729898 -1.154818   \n",
       "quadrupole1   quadrupole1:1  quadrupole    5.0  467.729898  1.154818   \n",
       "drift_0[0]        drift_0:0       drift   25.0  423.532856  1.055034   \n",
       "marker1           marker1:1      marker   25.0  423.532856  1.055034   \n",
       "drift_1[0]        drift_1:0       drift   50.0  373.899421  0.930304   \n",
       "quadrupole2   quadrupole2:1  quadrupole   55.0  373.899421 -0.930304   \n",
       "drift_2[0]        drift_2:0       drift   75.0  413.107248 -1.030088   \n",
       "marker2           marker2:1      marker   75.0  413.107248 -1.030088   \n",
       "drift_3[0]        drift_3:0       drift  100.0  467.729898 -1.154818   \n",
       "#e             mycell$end:1      marker  100.0  467.729898 -1.154818   \n",
       "\n",
       "                  mux        bety      alfy       muy    x  ...  sig54  sig55  \\\n",
       "#s           0.000000  373.899421  0.930304  0.000000  0.0  ...    0.0    0.0   \n",
       "quadrupole1  0.001694  373.899421 -0.930304  0.002137  0.0  ...    0.0    0.0   \n",
       "drift_0[0]   0.008848  413.107248 -1.030088  0.010240  0.0  ...    0.0    0.0   \n",
       "marker1      0.008848  413.107248 -1.030088  0.010240  0.0  ...    0.0    0.0   \n",
       "drift_1[0]   0.018854  467.729898 -1.154818  0.019296  0.0  ...    0.0    0.0   \n",
       "quadrupole2  0.020991  467.729898  1.154818  0.020991  0.0  ...    0.0    0.0   \n",
       "drift_2[0]   0.029094  423.532856  1.055034  0.028145  0.0  ...    0.0    0.0   \n",
       "marker2      0.029094  423.532856  1.055034  0.028145  0.0  ...    0.0    0.0   \n",
       "drift_3[0]   0.038150  373.899421  0.930304  0.038150  0.0  ...    0.0    0.0   \n",
       "#e           0.038150  373.899421  0.930304  0.038150  0.0  ...    0.0    0.0   \n",
       "\n",
       "             sig56  sig61  sig62  sig63  sig64  sig65  sig66   n1  \n",
       "#s             0.0    0.0    0.0    0.0    0.0    0.0    0.0  0.0  \n",
       "quadrupole1    0.0    0.0    0.0    0.0    0.0    0.0    0.0  0.0  \n",
       "drift_0[0]     0.0    0.0    0.0    0.0    0.0    0.0    0.0  0.0  \n",
       "marker1        0.0    0.0    0.0    0.0    0.0    0.0    0.0  0.0  \n",
       "drift_1[0]     0.0    0.0    0.0    0.0    0.0    0.0    0.0  0.0  \n",
       "quadrupole2    0.0    0.0    0.0    0.0    0.0    0.0    0.0  0.0  \n",
       "drift_2[0]     0.0    0.0    0.0    0.0    0.0    0.0    0.0  0.0  \n",
       "marker2        0.0    0.0    0.0    0.0    0.0    0.0    0.0  0.0  \n",
       "drift_3[0]     0.0    0.0    0.0    0.0    0.0    0.0    0.0  0.0  \n",
       "#e             0.0    0.0    0.0    0.0    0.0    0.0    0.0  0.0  \n",
       "\n",
       "[10 rows x 256 columns]"
      ]
     },
     "execution_count": 116,
     "metadata": {},
     "output_type": "execute_result"
    }
   ],
   "source": [
    "myDF"
   ]
  },
  {
   "cell_type": "markdown",
   "id": "a6eeaf6d-39b0-4a35-979c-486b64cab95d",
   "metadata": {},
   "source": [
    "#### We can select the data of interest as follows:"
   ]
  },
  {
   "cell_type": "code",
   "execution_count": 117,
   "id": "1174ce38-7319-4f46-bfc4-222a05c1e382",
   "metadata": {
    "tags": []
   },
   "outputs": [
    {
     "data": {
      "text/html": [
       "<div>\n",
       "<style scoped>\n",
       "    .dataframe tbody tr th:only-of-type {\n",
       "        vertical-align: middle;\n",
       "    }\n",
       "\n",
       "    .dataframe tbody tr th {\n",
       "        vertical-align: top;\n",
       "    }\n",
       "\n",
       "    .dataframe thead th {\n",
       "        text-align: right;\n",
       "    }\n",
       "</style>\n",
       "<table border=\"1\" class=\"dataframe\">\n",
       "  <thead>\n",
       "    <tr style=\"text-align: right;\">\n",
       "      <th></th>\n",
       "      <th>name</th>\n",
       "      <th>keyword</th>\n",
       "      <th>s</th>\n",
       "      <th>betx</th>\n",
       "      <th>bety</th>\n",
       "      <th>alfx</th>\n",
       "      <th>alfy</th>\n",
       "      <th>mux</th>\n",
       "      <th>muy</th>\n",
       "      <th>dx</th>\n",
       "      <th>dy</th>\n",
       "      <th>x</th>\n",
       "      <th>y</th>\n",
       "    </tr>\n",
       "  </thead>\n",
       "  <tbody>\n",
       "    <tr>\n",
       "      <th>#s</th>\n",
       "      <td>mycell$start:1</td>\n",
       "      <td>marker</td>\n",
       "      <td>0.0</td>\n",
       "      <td>467.729898</td>\n",
       "      <td>373.899421</td>\n",
       "      <td>-1.154818</td>\n",
       "      <td>0.930304</td>\n",
       "      <td>0.000000</td>\n",
       "      <td>0.000000</td>\n",
       "      <td>0.0</td>\n",
       "      <td>0.0</td>\n",
       "      <td>0.0</td>\n",
       "      <td>0.0</td>\n",
       "    </tr>\n",
       "    <tr>\n",
       "      <th>quadrupole1</th>\n",
       "      <td>quadrupole1:1</td>\n",
       "      <td>quadrupole</td>\n",
       "      <td>5.0</td>\n",
       "      <td>467.729898</td>\n",
       "      <td>373.899421</td>\n",
       "      <td>1.154818</td>\n",
       "      <td>-0.930304</td>\n",
       "      <td>0.001694</td>\n",
       "      <td>0.002137</td>\n",
       "      <td>0.0</td>\n",
       "      <td>0.0</td>\n",
       "      <td>0.0</td>\n",
       "      <td>0.0</td>\n",
       "    </tr>\n",
       "    <tr>\n",
       "      <th>drift_0[0]</th>\n",
       "      <td>drift_0:0</td>\n",
       "      <td>drift</td>\n",
       "      <td>25.0</td>\n",
       "      <td>423.532856</td>\n",
       "      <td>413.107248</td>\n",
       "      <td>1.055034</td>\n",
       "      <td>-1.030088</td>\n",
       "      <td>0.008848</td>\n",
       "      <td>0.010240</td>\n",
       "      <td>0.0</td>\n",
       "      <td>0.0</td>\n",
       "      <td>0.0</td>\n",
       "      <td>0.0</td>\n",
       "    </tr>\n",
       "    <tr>\n",
       "      <th>marker1</th>\n",
       "      <td>marker1:1</td>\n",
       "      <td>marker</td>\n",
       "      <td>25.0</td>\n",
       "      <td>423.532856</td>\n",
       "      <td>413.107248</td>\n",
       "      <td>1.055034</td>\n",
       "      <td>-1.030088</td>\n",
       "      <td>0.008848</td>\n",
       "      <td>0.010240</td>\n",
       "      <td>0.0</td>\n",
       "      <td>0.0</td>\n",
       "      <td>0.0</td>\n",
       "      <td>0.0</td>\n",
       "    </tr>\n",
       "    <tr>\n",
       "      <th>drift_1[0]</th>\n",
       "      <td>drift_1:0</td>\n",
       "      <td>drift</td>\n",
       "      <td>50.0</td>\n",
       "      <td>373.899421</td>\n",
       "      <td>467.729898</td>\n",
       "      <td>0.930304</td>\n",
       "      <td>-1.154818</td>\n",
       "      <td>0.018854</td>\n",
       "      <td>0.019296</td>\n",
       "      <td>0.0</td>\n",
       "      <td>0.0</td>\n",
       "      <td>0.0</td>\n",
       "      <td>0.0</td>\n",
       "    </tr>\n",
       "    <tr>\n",
       "      <th>quadrupole2</th>\n",
       "      <td>quadrupole2:1</td>\n",
       "      <td>quadrupole</td>\n",
       "      <td>55.0</td>\n",
       "      <td>373.899421</td>\n",
       "      <td>467.729898</td>\n",
       "      <td>-0.930304</td>\n",
       "      <td>1.154818</td>\n",
       "      <td>0.020991</td>\n",
       "      <td>0.020991</td>\n",
       "      <td>0.0</td>\n",
       "      <td>0.0</td>\n",
       "      <td>0.0</td>\n",
       "      <td>0.0</td>\n",
       "    </tr>\n",
       "    <tr>\n",
       "      <th>drift_2[0]</th>\n",
       "      <td>drift_2:0</td>\n",
       "      <td>drift</td>\n",
       "      <td>75.0</td>\n",
       "      <td>413.107248</td>\n",
       "      <td>423.532856</td>\n",
       "      <td>-1.030088</td>\n",
       "      <td>1.055034</td>\n",
       "      <td>0.029094</td>\n",
       "      <td>0.028145</td>\n",
       "      <td>0.0</td>\n",
       "      <td>0.0</td>\n",
       "      <td>0.0</td>\n",
       "      <td>0.0</td>\n",
       "    </tr>\n",
       "    <tr>\n",
       "      <th>marker2</th>\n",
       "      <td>marker2:1</td>\n",
       "      <td>marker</td>\n",
       "      <td>75.0</td>\n",
       "      <td>413.107248</td>\n",
       "      <td>423.532856</td>\n",
       "      <td>-1.030088</td>\n",
       "      <td>1.055034</td>\n",
       "      <td>0.029094</td>\n",
       "      <td>0.028145</td>\n",
       "      <td>0.0</td>\n",
       "      <td>0.0</td>\n",
       "      <td>0.0</td>\n",
       "      <td>0.0</td>\n",
       "    </tr>\n",
       "    <tr>\n",
       "      <th>drift_3[0]</th>\n",
       "      <td>drift_3:0</td>\n",
       "      <td>drift</td>\n",
       "      <td>100.0</td>\n",
       "      <td>467.729898</td>\n",
       "      <td>373.899421</td>\n",
       "      <td>-1.154818</td>\n",
       "      <td>0.930304</td>\n",
       "      <td>0.038150</td>\n",
       "      <td>0.038150</td>\n",
       "      <td>0.0</td>\n",
       "      <td>0.0</td>\n",
       "      <td>0.0</td>\n",
       "      <td>0.0</td>\n",
       "    </tr>\n",
       "    <tr>\n",
       "      <th>#e</th>\n",
       "      <td>mycell$end:1</td>\n",
       "      <td>marker</td>\n",
       "      <td>100.0</td>\n",
       "      <td>467.729898</td>\n",
       "      <td>373.899421</td>\n",
       "      <td>-1.154818</td>\n",
       "      <td>0.930304</td>\n",
       "      <td>0.038150</td>\n",
       "      <td>0.038150</td>\n",
       "      <td>0.0</td>\n",
       "      <td>0.0</td>\n",
       "      <td>0.0</td>\n",
       "      <td>0.0</td>\n",
       "    </tr>\n",
       "  </tbody>\n",
       "</table>\n",
       "</div>"
      ],
      "text/plain": [
       "                       name     keyword      s        betx        bety  \\\n",
       "#s           mycell$start:1      marker    0.0  467.729898  373.899421   \n",
       "quadrupole1   quadrupole1:1  quadrupole    5.0  467.729898  373.899421   \n",
       "drift_0[0]        drift_0:0       drift   25.0  423.532856  413.107248   \n",
       "marker1           marker1:1      marker   25.0  423.532856  413.107248   \n",
       "drift_1[0]        drift_1:0       drift   50.0  373.899421  467.729898   \n",
       "quadrupole2   quadrupole2:1  quadrupole   55.0  373.899421  467.729898   \n",
       "drift_2[0]        drift_2:0       drift   75.0  413.107248  423.532856   \n",
       "marker2           marker2:1      marker   75.0  413.107248  423.532856   \n",
       "drift_3[0]        drift_3:0       drift  100.0  467.729898  373.899421   \n",
       "#e             mycell$end:1      marker  100.0  467.729898  373.899421   \n",
       "\n",
       "                 alfx      alfy       mux       muy   dx   dy    x    y  \n",
       "#s          -1.154818  0.930304  0.000000  0.000000  0.0  0.0  0.0  0.0  \n",
       "quadrupole1  1.154818 -0.930304  0.001694  0.002137  0.0  0.0  0.0  0.0  \n",
       "drift_0[0]   1.055034 -1.030088  0.008848  0.010240  0.0  0.0  0.0  0.0  \n",
       "marker1      1.055034 -1.030088  0.008848  0.010240  0.0  0.0  0.0  0.0  \n",
       "drift_1[0]   0.930304 -1.154818  0.018854  0.019296  0.0  0.0  0.0  0.0  \n",
       "quadrupole2 -0.930304  1.154818  0.020991  0.020991  0.0  0.0  0.0  0.0  \n",
       "drift_2[0]  -1.030088  1.055034  0.029094  0.028145  0.0  0.0  0.0  0.0  \n",
       "marker2     -1.030088  1.055034  0.029094  0.028145  0.0  0.0  0.0  0.0  \n",
       "drift_3[0]  -1.154818  0.930304  0.038150  0.038150  0.0  0.0  0.0  0.0  \n",
       "#e          -1.154818  0.930304  0.038150  0.038150  0.0  0.0  0.0  0.0  "
      ]
     },
     "execution_count": 117,
     "metadata": {},
     "output_type": "execute_result"
    }
   ],
   "source": [
    "myDF[['name','keyword','s','betx','bety','alfx','alfy','mux','muy','dx','dy','x','y']]"
   ]
  },
  {
   "cell_type": "markdown",
   "id": "a75b88e2-3a9f-4721-84a7-3d9e1320e6e9",
   "metadata": {},
   "source": [
    "#### And for the summ table:"
   ]
  },
  {
   "cell_type": "code",
   "execution_count": 118,
   "id": "e28f7bbc-472b-4112-828f-8c24c8c29059",
   "metadata": {
    "tags": []
   },
   "outputs": [
    {
     "data": {
      "text/html": [
       "<div>\n",
       "<style scoped>\n",
       "    .dataframe tbody tr th:only-of-type {\n",
       "        vertical-align: middle;\n",
       "    }\n",
       "\n",
       "    .dataframe tbody tr th {\n",
       "        vertical-align: top;\n",
       "    }\n",
       "\n",
       "    .dataframe thead th {\n",
       "        text-align: right;\n",
       "    }\n",
       "</style>\n",
       "<table border=\"1\" class=\"dataframe\">\n",
       "  <thead>\n",
       "    <tr style=\"text-align: right;\">\n",
       "      <th></th>\n",
       "      <th>length</th>\n",
       "      <th>orbit5</th>\n",
       "      <th>alfa</th>\n",
       "      <th>gammatr</th>\n",
       "      <th>q1</th>\n",
       "      <th>dq1</th>\n",
       "      <th>betxmax</th>\n",
       "      <th>dxmax</th>\n",
       "      <th>dxrms</th>\n",
       "      <th>xcomax</th>\n",
       "      <th>...</th>\n",
       "      <th>synch_1</th>\n",
       "      <th>synch_2</th>\n",
       "      <th>synch_3</th>\n",
       "      <th>synch_4</th>\n",
       "      <th>synch_5</th>\n",
       "      <th>synch_6</th>\n",
       "      <th>synch_8</th>\n",
       "      <th>nflips</th>\n",
       "      <th>dqmin</th>\n",
       "      <th>dqmin_phase</th>\n",
       "    </tr>\n",
       "  </thead>\n",
       "  <tbody>\n",
       "    <tr>\n",
       "      <th>#e</th>\n",
       "      <td>100.0</td>\n",
       "      <td>-0.0</td>\n",
       "      <td>0.0</td>\n",
       "      <td>0.0</td>\n",
       "      <td>0.03815</td>\n",
       "      <td>-0.043313</td>\n",
       "      <td>467.729898</td>\n",
       "      <td>0.0</td>\n",
       "      <td>0.0</td>\n",
       "      <td>0.0</td>\n",
       "      <td>...</td>\n",
       "      <td>0.0</td>\n",
       "      <td>0.0</td>\n",
       "      <td>0.0</td>\n",
       "      <td>0.0</td>\n",
       "      <td>0.0</td>\n",
       "      <td>0.0</td>\n",
       "      <td>0.0</td>\n",
       "      <td>0.0</td>\n",
       "      <td>0.0</td>\n",
       "      <td>0.770599</td>\n",
       "    </tr>\n",
       "  </tbody>\n",
       "</table>\n",
       "<p>1 rows × 29 columns</p>\n",
       "</div>"
      ],
      "text/plain": [
       "    length  orbit5  alfa  gammatr       q1       dq1     betxmax  dxmax  \\\n",
       "#e   100.0    -0.0   0.0      0.0  0.03815 -0.043313  467.729898    0.0   \n",
       "\n",
       "    dxrms  xcomax  ...  synch_1  synch_2  synch_3  synch_4  synch_5  synch_6  \\\n",
       "#e    0.0     0.0  ...      0.0      0.0      0.0      0.0      0.0      0.0   \n",
       "\n",
       "    synch_8  nflips  dqmin  dqmin_phase  \n",
       "#e      0.0     0.0    0.0     0.770599  \n",
       "\n",
       "[1 rows x 29 columns]"
      ]
     },
     "execution_count": 118,
     "metadata": {},
     "output_type": "execute_result"
    }
   ],
   "source": [
    "myDF_summ=madx.table.summ.dframe()\n",
    "myDF_summ"
   ]
  },
  {
   "cell_type": "markdown",
   "id": "7339a1c2-ef91-4a69-bb85-62079eef9a26",
   "metadata": {
    "tags": []
   },
   "source": [
    "#### Some examples to print some desired values from the output tables are given below"
   ]
  },
  {
   "cell_type": "markdown",
   "id": "7c933be4-092a-454c-9b56-56f60ceb7d16",
   "metadata": {},
   "source": [
    "#### Example 1:"
   ]
  },
  {
   "cell_type": "code",
   "execution_count": 119,
   "id": "9bc9337f-5876-4dd6-a85d-603c82bcdde8",
   "metadata": {
    "tags": []
   },
   "outputs": [
    {
     "name": "stdout",
     "output_type": "stream",
     "text": [
      "Horizontal beta_max: 467.7298984029032\n",
      "Vertical beta_max: 467.72989840290313\n"
     ]
    }
   ],
   "source": [
    "print(\"Horizontal beta_max: %s\" %myDF_summ[\"betxmax\"].values[0])\n",
    "print(\"Vertical beta_max: %s\" %myDF_summ[\"betymax\"].values[0])"
   ]
  },
  {
   "cell_type": "markdown",
   "id": "f3dcf64e-cda6-46f0-a677-c85fd4d04be1",
   "metadata": {},
   "source": [
    "#### Example 2:"
   ]
  },
  {
   "cell_type": "code",
   "execution_count": 120,
   "id": "f8346170-7a65-4ef8-b425-82dd2477932f",
   "metadata": {
    "tags": []
   },
   "outputs": [
    {
     "name": "stdout",
     "output_type": "stream",
     "text": [
      "Showing only the column with the horizontal beta-function data:\n"
     ]
    },
    {
     "data": {
      "text/plain": [
       "array([467.7298984 , 467.7298984 , 423.53285649, 423.53285649,\n",
       "       373.89942109, 373.89942109, 413.1072479 , 413.1072479 ,\n",
       "       467.7298984 , 467.7298984 ])"
      ]
     },
     "metadata": {},
     "output_type": "display_data"
    },
    {
     "name": "stdout",
     "output_type": "stream",
     "text": [
      "Showing only the horizontal beta-function at the start of the FODO cell:\n"
     ]
    },
    {
     "data": {
      "text/plain": [
       "467.7298984029031"
      ]
     },
     "metadata": {},
     "output_type": "display_data"
    }
   ],
   "source": [
    "print (\"Showing only the column with the horizontal beta-function data:\")\n",
    "\n",
    "display(myDF[\"betx\"].values)\n",
    "\n",
    "print (\"Showing only the horizontal beta-function at the start of the FODO cell:\")\n",
    "\n",
    "display(myDF[\"betx\"].values[0])"
   ]
  },
  {
   "cell_type": "code",
   "execution_count": 121,
   "id": "a769fed3-4b79-44b3-a7e4-0d87d720cf40",
   "metadata": {
    "tags": []
   },
   "outputs": [
    {
     "name": "stdout",
     "output_type": "stream",
     "text": [
      "Horizontal betamax\n",
      "467.7298984029032\n",
      "Vertical betamax\n",
      "467.72989840290313\n"
     ]
    }
   ],
   "source": [
    "betxmax=max(myDF[\"betx\"])\n",
    "print(\"Horizontal betamax\")\n",
    "print(betxmax)\n",
    "\n",
    "betymax=max(myDF[\"bety\"])\n",
    "print(\"Vertical betamax\")\n",
    "print(betymax)"
   ]
  },
  {
   "cell_type": "markdown",
   "id": "c0059616-24e2-45f8-b496-b735ce06446e",
   "metadata": {},
   "source": [
    "#### Next, two examples on how to plot data from the created pandas dataframes are shown"
   ]
  },
  {
   "cell_type": "code",
   "execution_count": 127,
   "id": "3ffdfb26-c946-4437-adb3-ac3863c02d59",
   "metadata": {
    "tags": []
   },
   "outputs": [
    {
     "data": {
      "image/png": "[encoded data removed]",
      "text/plain": [
       "<Figure size 1000x600 with 1 Axes>"
      ]
     },
     "metadata": {},
     "output_type": "display_data"
    }
   ],
   "source": [
    "fig = plt.figure(figsize=(10,6))\n",
    "plt.rcParams.update({'font.size': 16})\n",
    "plt.plot(myDF['s'],myDF['betx'],'.-b',label='$\\\\beta_x$')\n",
    "plt.plot(myDF['s'],myDF['bety'],'.-r',label='$\\\\beta_y$')\n",
    "plt.xlabel('s [m]')\n",
    "plt.ylabel('[m]')\n",
    "plt.legend(loc='best')\n",
    "plt.grid()"
   ]
  },
  {
   "cell_type": "markdown",
   "id": "3d6b7ac7-85e4-47b0-bd6f-81eb7197e15a",
   "metadata": {},
   "source": [
    "#### Here, we present an example of how to add on the top of the optics plot the magnetic lattice of the cell\n",
    "    - In order to do that, the lib_JUAS2024 library has to be loaded"
   ]
  },
  {
   "cell_type": "code",
   "execution_count": 124,
   "id": "53eaa7cf-533c-43a2-b78c-568e7773a018",
   "metadata": {
    "tags": []
   },
   "outputs": [
    {
     "name": "stderr",
     "output_type": "stream",
     "text": [
      "/Users/nuria/Desktop/JUAS2024/Tutorial1/../lib_JUAS2024.py:60: UserWarning: Attempting to set identical low and high ylims makes transformation singular; automatically expanding.\n",
      "  ax2.set_ylim(-np.max(abs(myDF.angle)),np.max(abs(myDF.angle)))\n"
     ]
    },
    {
     "data": {
      "image/png": "[encoded data removed]",
      "text/plain": [
       "<Figure size 1300x800 with 4 Axes>"
      ]
     },
     "metadata": {},
     "output_type": "display_data"
    }
   ],
   "source": [
    "import sys\n",
    "sys.path.append('../')\n",
    "import lib_JUAS2024 as lib\n",
    "lib.plot_layout(myDF)"
   ]
  },
  {
   "cell_type": "markdown",
   "id": "86b65bb2",
   "metadata": {},
   "source": [
    "#### 3. Using the $\\beta$-function plot obtained, can you estimate the phase advance of the cell? How does this value compare to the tune computed by MAD-X."
   ]
  },
  {
   "cell_type": "markdown",
   "id": "139ab614",
   "metadata": {},
   "source": [
    "#### For the phase advance one can consider the definition:\n",
    "\n",
    " $$\\begin{equation} \n",
    " \\mu=\\int\\frac{1}{\\beta(s)}ds.\n",
    " \\end{equation}$$\n",
    "\n",
    "#### Remember the phase advance in MAD-X is given in units of [2$\\pi$]."
   ]
  },
  {
   "cell_type": "code",
   "execution_count": null,
   "id": "c2c48a38",
   "metadata": {},
   "outputs": [],
   "source": []
  },
  {
   "cell_type": "code",
   "execution_count": null,
   "id": "e1df6eec-e995-4551-9331-8d02713590dc",
   "metadata": {},
   "outputs": [],
   "source": []
  },
  {
   "cell_type": "markdown",
   "id": "537588e6",
   "metadata": {},
   "source": [
    "#### 4. Try with $E_{tot}$ = 0.7 GeV: what is the MAD-X error message? Try with f = 20 m: what is the MAD-X error message? \n",
    "\n",
    "#### (Note that the error messages, will appear in the jupyter-notebook or in the terminal from which you launched the JupyterLab). "
   ]
  },
  {
   "cell_type": "code",
   "execution_count": null,
   "id": "9f88f86d-394b-4b04-b4b5-8a9f553ac1dd",
   "metadata": {},
   "outputs": [],
   "source": []
  },
  {
   "cell_type": "code",
   "execution_count": null,
   "id": "00f710fe-4a29-4208-a231-0b201f2a2db9",
   "metadata": {},
   "outputs": [],
   "source": []
  }
 ],
 "metadata": {
  "kernelspec": {
   "display_name": "Python 3 (ipykernel)",
   "language": "python",
   "name": "python3"
  },
  "language_info": {
   "codemirror_mode": {
    "name": "ipython",
    "version": 3
   },
   "file_extension": ".py",
   "mimetype": "text/x-python",
   "name": "python",
   "nbconvert_exporter": "python",
   "pygments_lexer": "ipython3",
   "version": "3.11.5"
  },
  "toc-autonumbering": false,
  "toc-showcode": true,
  "toc-showmarkdowntxt": true
 },
 "nbformat": 4,
 "nbformat_minor": 5
}
