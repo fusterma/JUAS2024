{
 "cells": [
  {
   "cell_type": "markdown",
   "id": "8a9ccda8-963d-47e3-84bd-411e46ab3656",
   "metadata": {},
   "source": [
    "# Tutorial 4: Natural chromaticity."
   ]
  },
  {
   "attachments": {},
   "cell_type": "markdown",
   "id": "240df9d9-0b0f-4fae-94d8-a59166926324",
   "metadata": {},
   "source": [
    "## Objectives\n",
    "- Quantify the natural **chromaticity** of a **FODO**\n",
    "\n",
    "<div>\n",
    "<img src=\"../Figures/Tutorial4_chroma.jpg\" width=\"500\"/>\n",
    "</div>\n",
    "\n",
    "- First tracking of **particles** using the tracking MAD-X engine to study the **beam dynamics** for different initial conditions."
   ]
  },
  {
   "attachments": {},
   "cell_type": "markdown",
   "id": "eaa06fe2-d837-4904-ae73-39cca1e712f7",
   "metadata": {},
   "source": [
    "## Questions\n",
    "1. Using the lattice and the MAD-X input file from Tutorial 3 make thin your lattice and match the tunes of the FODO cell to 0.25, both horizontal and vertical.\n",
    "2. Using the chromaticities obtained from the TWISS, compute the tunes for $\\Delta p / p = 10^{-3}$.\n",
    "3. Track a particle with initial coordinates x,y,px,py = (1,1,0,0) mm in 100 cells. Plot the x-px phase space.\n",
    "4. Track a particle with initial coordinates x,y,px,py=(100, 100, 0, 0) mm in 100 cells. Plot the x-px phase-space. Does something change with respect to the previous case? Why?\n",
    "## **BONUS**\n",
    "5. Repeat points 3 and 4 but adding DELTAP=1e-2 to the track command. How does the phase space look now? Is the tune still the same? It may help to look only at the first 4 turns to get a clearer picture."
   ]
  },
  {
   "cell_type": "markdown",
   "id": "0894bd31-1278-40b4-89d6-e98e77a2f466",
   "metadata": {},
   "source": [
    "# Python libraries "
   ]
  },
  {
   "cell_type": "code",
   "execution_count": 1,
   "id": "437815eb-18b4-4136-83f0-df11c015fbb4",
   "metadata": {},
   "outputs": [],
   "source": [
    "#########################################\n",
    "# Python libraries                      #\n",
    "#########################################\n",
    "from matplotlib import pyplot as plt\n",
    "import numpy as np\n",
    "import pandas as pd\n",
    "\n",
    "#########################################\n",
    "# Cpymad library                        #\n",
    "#########################################\n",
    "from cpymad.madx import Madx "
   ]
  },
  {
   "cell_type": "markdown",
   "id": "9fc82274-8280-4475-a315-e773006eb431",
   "metadata": {},
   "source": [
    "# Launching MAD-X"
   ]
  },
  {
   "cell_type": "code",
   "execution_count": 3,
   "id": "71df23d9-f388-4eeb-83ed-4b5dac9eac3c",
   "metadata": {},
   "outputs": [
    {
     "name": "stdout",
     "output_type": "stream",
     "text": [
      "\n",
      "  ++++++++++++++++++++++++++++++++++++++++++++\n",
      "  +     MAD-X 5.07.00  (64 bit, Darwin)      +\n",
      "  + Support: mad@cern.ch, http://cern.ch/mad +\n",
      "  + Release   date: 2021.05.03               +\n",
      "  + Execution date: 2022.12.06 16:31:11      +\n",
      "  ++++++++++++++++++++++++++++++++++++++++++++\n"
     ]
    }
   ],
   "source": [
    "# madx = Madx(stdout=True)\n",
    "madx = Madx()"
   ]
  },
  {
   "cell_type": "markdown",
   "id": "21856e81-0b89-4aed-a1db-975c18494c2a",
   "metadata": {},
   "source": [
    "# Methods in the Madx class from cpymad library to be used:"
   ]
  },
  {
   "cell_type": "markdown",
   "id": "48db3222-3c79-4f52-8a37-821c6f617df4",
   "metadata": {},
   "source": [
    "#### To run the MAD-X lattice input file:\n",
    "\n",
    "`madx.call('name_of_the_file.madx')`\n",
    "\n",
    "#### To save the MAD-X output data from the TWISS and SUMM tables into a pandas dataframe: \n",
    "\n",
    "`madx.table.twiss.dframe()`\n",
    "\n",
    "`madx.table.summ.dframe()`\n",
    "\n",
    "#### To run a MAD-X command from the Jupyter-notebook: \n",
    "\n",
    "`madx.input(\"MAD-X command\")`"
   ]
  },
  {
   "cell_type": "markdown",
   "id": "ba9f7cd8-8b25-4eb8-b690-ec73e9dc0075",
   "metadata": {},
   "source": [
    "# Python plot commands"
   ]
  },
  {
   "cell_type": "markdown",
   "id": "80d75919-0858-4086-bf60-407ebb0176fe",
   "metadata": {},
   "source": [
    "#### You can copy/paste, uncomment and apply the example below for plotting:"
   ]
  },
  {
   "cell_type": "code",
   "execution_count": 2,
   "id": "f15197e2-5ccf-4786-8f6d-dc4fff977819",
   "metadata": {},
   "outputs": [],
   "source": [
    "###########################\n",
    "#### Plot example code ####\n",
    "###########################\n",
    "\n",
    "#### To change the size of the plot window\n",
    "# plt.rcParams['figure.dpi'] = 100\n",
    "\n",
    "#### Plot command\n",
    "# plt.plot(x,y,'ob',label='Example')\n",
    "\n",
    "#### Adding labels\n",
    "# plt.xlabel('s[m]')\n",
    "# plt.ylabel('[m]')\n",
    "\n",
    "#### Adding a legend\n",
    "# plt.legend(loc='best')"
   ]
  },
  {
   "cell_type": "markdown",
   "id": "aa53062a-5382-416d-899f-eca15cb10b64",
   "metadata": {},
   "source": [
    "# Questions"
   ]
  },
  {
   "attachments": {},
   "cell_type": "markdown",
   "id": "a02780e3-6501-4a5d-ae33-686954647ed3",
   "metadata": {},
   "source": [
    "#### 1. Using the lattice and the MAD-X input file from Tutorial 3 make thin your lattice and match the tunes of the FODO cell to 0.25, both horizontal and vertical. \n",
    "<a id=\"Q1\"></a>\n",
    "    \n",
    "**REMEMEBER** that in order to use the TRACK command you need to convert your lattice into a thin lattice. You will need the following commands:\n",
    "    \n",
    "        select, flag=MAKETHIN, SLICE=5;\n",
    "        MAKETHIN, SEQUENCE=MY_SEQUENCE;\n",
    "        use, sequence=MY_SEQUENCE;\n",
    "    \n",
    "**It is important when defining the SEQUENCE to refer to the the center, to make it compatible with the makethin command! So you may need to re-define the s location in your sequence accordingly.**"
   ]
  },
  {
   "cell_type": "code",
   "execution_count": null,
   "id": "205acae0-daa4-4b45-a096-3a986f19205c",
   "metadata": {},
   "outputs": [],
   "source": []
  },
  {
   "cell_type": "code",
   "execution_count": null,
   "id": "ec500f38-19eb-4446-9ae2-d17613ee16d5",
   "metadata": {},
   "outputs": [],
   "source": []
  },
  {
   "attachments": {},
   "cell_type": "markdown",
   "id": "ac7a2ce7-3a86-4023-8c83-7bb7830ac801",
   "metadata": {},
   "source": [
    "#### 2. Using the chromaticities obtained from the TWISS, compute the tunes for $\\Delta p / p = 10^{-3}$. \n",
    "<a id=\"Q2\"></a>\n",
    "$\\Delta Q = dq \\times \\frac{\\Delta p}{p}$\n",
    "\n",
    "**REMEMBER** That the derivative functions in MAD-X are normalized by the relativistic factor beta.\n",
    "\n",
    "We could assume ultra-relativistic beam.\n"
   ]
  },
  {
   "cell_type": "code",
   "execution_count": null,
   "id": "c167d386",
   "metadata": {},
   "outputs": [],
   "source": []
  },
  {
   "cell_type": "code",
   "execution_count": null,
   "id": "fd9883a1",
   "metadata": {},
   "outputs": [],
   "source": []
  },
  {
   "attachments": {},
   "cell_type": "markdown",
   "id": "f6e6469f",
   "metadata": {},
   "source": [
    "#### 3. Track a particle with initial coordinates x,y,px,py = (1,1,0,0) mm in 100 cells. Plot the x-px phase space. <a id=\"Q3\"></a>\n",
    "The track module to be use:\n",
    "    \n",
    "        track, dump;    \n",
    "        start, x=1e-3, px=0, y=1e-3, py=0;    \n",
    "        run, turns=100;   \n",
    "        endtrack;\n",
    "   "
   ]
  },
  {
   "cell_type": "code",
   "execution_count": null,
   "id": "386e1559",
   "metadata": {},
   "outputs": [],
   "source": []
  },
  {
   "cell_type": "code",
   "execution_count": null,
   "id": "bdc6946b",
   "metadata": {},
   "outputs": [],
   "source": []
  },
  {
   "cell_type": "markdown",
   "id": "670d95d4",
   "metadata": {},
   "source": [
    "#### 4. Track a particle with initial coordinates x,y,px,py=(100, 100, 0, 0) mm in 100 cells. Plot the x-px phase-space. Does something change with respect to the previous case? Why? <a id=\"Q4\"><a>"
   ]
  },
  {
   "cell_type": "code",
   "execution_count": null,
   "id": "6219c627",
   "metadata": {},
   "outputs": [],
   "source": []
  },
  {
   "cell_type": "code",
   "execution_count": null,
   "id": "4804e892-4f08-4f0d-a274-3e600b5119a9",
   "metadata": {},
   "outputs": [],
   "source": []
  },
  {
   "cell_type": "markdown",
   "id": "75134021",
   "metadata": {},
   "source": [
    "#### **BONUS**\n",
    "\n",
    "#### 5. Repeat points 3 and 4 but adding DELTAP=1e-2 to the track command. How does the phase space look now? Is the tune still the same? It may help to look only at the first 4 turns to get a clearer picture. <a id=\"Q5\"><a>"
   ]
  },
  {
   "cell_type": "code",
   "execution_count": null,
   "id": "56658a28",
   "metadata": {},
   "outputs": [],
   "source": []
  },
  {
   "cell_type": "code",
   "execution_count": null,
   "id": "7d8d7785",
   "metadata": {},
   "outputs": [],
   "source": []
  },
  {
   "cell_type": "code",
   "execution_count": null,
   "id": "89c52827-6a67-4c28-bc2c-d0bac41ec39d",
   "metadata": {},
   "outputs": [],
   "source": []
  }
 ],
 "metadata": {
  "kernelspec": {
   "display_name": "Python 3",
   "language": "python",
   "name": "python3"
  },
  "language_info": {
   "codemirror_mode": {
    "name": "ipython",
    "version": 3
   },
   "file_extension": ".py",
   "mimetype": "text/x-python",
   "name": "python",
   "nbconvert_exporter": "python",
   "pygments_lexer": "ipython3",
   "version": "3.8.8"
  }
 },
 "nbformat": 4,
 "nbformat_minor": 5
}
