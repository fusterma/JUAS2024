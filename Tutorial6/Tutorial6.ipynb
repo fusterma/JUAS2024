{
 "cells": [
  {
   "cell_type": "markdown",
   "id": "38b0608a-73ad-437c-aa0f-0d4f2b920242",
   "metadata": {},
   "source": [
    "# Tutorial 6: Building a transfer line."
   ]
  },
  {
   "attachments": {},
   "cell_type": "markdown",
   "id": "a6ba2a96-dad7-43a2-ac3a-cccb20b35c8e",
   "metadata": {
    "tags": []
   },
   "source": [
    "# Objectives\n",
    "\n",
    "- Build a transfer line and compute the optics for some given initial conditions.\n",
    "- Matching a tranfer line."
   ]
  },
  {
   "attachments": {},
   "cell_type": "markdown",
   "id": "1f0a3fd0-a1ab-480e-b489-926efa948cc5",
   "metadata": {},
   "source": [
    "# Questions\n",
    "#### 1. Build a tranfer line for a 2 GeV proton beam of 10 m length with 4 quadrupoles of L=0.4 m (centered at 2, 4, 6 and 8 m). With K1 respectively of 0.1, 0.1, 0.1, 0.1 $m^{-2}$. Can you find a periodic solution?\n",
    "\n",
    "<div>\n",
    "<img src=\"../Figures/Tutorial6_TransferLine.png\" width=\"500\"/>\n",
    "</div>\n",
    "\n",
    "2. Can you find an initial condition (IC) solution starting from ($\\beta_x$, $\\alpha_x$, $\\beta_y$, $\\alpha_y$) = (1 m, 0, 2 m, 0)? Compute the corresponding quadrupole gradients. What is the final optical conditions ($\\beta_x^{end}$, $\\alpha_x^{end}$, $\\beta_y^{end}$, $\\alpha_y^{end}$)\n",
    "3. Starting from ($\\beta_x$, $\\alpha_x$, $\\beta_y$, $\\alpha_y$) = (1 m, 0, 2 m, 0) match the line to ($\\beta_x^{end}$, $\\alpha_x^{end}$, $\\beta_y^{end}$, $\\alpha_y^{end}$)= (2,0,1,0) at the end.\n",
    "4. Starting from ($\\beta_x$, $\\alpha_x$, $\\beta_y$, $\\alpha_y$) = (1 m, 0, 2 m, 0) and the gradients obtained with previous matching, match to ($\\beta_x^{end}$, $\\alpha_x^{end}$, $\\beta_y^{end}$, $\\alpha_y^{end}$) found in point 2. Can you find back K1 respectively of 0.1,0.1,0.1,0.1 $m^{-2}$?. Compute the required gradients for this solution.\n",
    "## **BONUS**\n",
    "5. Consider that the quadrupole have an excitation current factor of 100 A $m^2$ and an excitation magnetic factor of 2 T/m/A and an aperture of 40 mm diameter. Compute the magnetic field at the poles of the four quadrupoles for the two matching solutions found in the exercice. (HINT: assume a linear regime and use a dimensional approach)."
   ]
  },
  {
   "cell_type": "markdown",
   "id": "1f7f5654-5d52-4bc0-8893-3bf9d1f1eacc",
   "metadata": {},
   "source": [
    "# Python libraries "
   ]
  },
  {
   "cell_type": "code",
   "execution_count": 1,
   "id": "7093a2b5-3499-445e-b761-f807f391036c",
   "metadata": {},
   "outputs": [],
   "source": [
    "#########################################\n",
    "# Python libraries                      #\n",
    "#########################################\n",
    "from matplotlib import pyplot as plt\n",
    "import numpy as np\n",
    "import pandas as pd\n",
    "\n",
    "#########################################\n",
    "# Cpymad library                        #\n",
    "#########################################\n",
    "from cpymad.madx import Madx "
   ]
  },
  {
   "cell_type": "markdown",
   "id": "b05635f9-18fc-4937-85bc-52866bcccf35",
   "metadata": {},
   "source": [
    "# Launching MAD-X"
   ]
  },
  {
   "cell_type": "code",
   "execution_count": 2,
   "id": "1a7dc5f2-62c4-4878-8cfc-b707086e8dd6",
   "metadata": {},
   "outputs": [
    {
     "name": "stdout",
     "output_type": "stream",
     "text": [
      "\n",
      "  ++++++++++++++++++++++++++++++++++++++++++++\n",
      "  +     MAD-X 5.07.00  (64 bit, Darwin)      +\n",
      "  + Support: mad@cern.ch, http://cern.ch/mad +\n",
      "  + Release   date: 2021.05.03               +\n",
      "  + Execution date: 2023.01.12 11:39:29      +\n",
      "  ++++++++++++++++++++++++++++++++++++++++++++\n"
     ]
    }
   ],
   "source": [
    "# madx = Madx(stdout=True)\n",
    "madx = Madx()"
   ]
  },
  {
   "cell_type": "markdown",
   "id": "6c00a240-5c01-46c4-8a69-03b207e06a91",
   "metadata": {},
   "source": [
    "# Methods in the Madx class from cpymad library to be used:"
   ]
  },
  {
   "cell_type": "markdown",
   "id": "3425fd87-9451-4b42-a119-6baea5efefc5",
   "metadata": {},
   "source": [
    "#### To run the MAD-X lattice input file:\n",
    "\n",
    "`madx.call('name_of_the_file.madx')`\n",
    "\n",
    "#### To save the MAD-X output data from the TWISS and SUMM tables into a pandas dataframe: \n",
    "\n",
    "`madx.table.twiss.dframe()`\n",
    "\n",
    "`madx.table.summ.dframe()`\n",
    "\n",
    "#### To run a MAD-X command from the Jupyter-notebook: \n",
    "\n",
    "`madx.input(\"MAD-X command\")`"
   ]
  },
  {
   "cell_type": "markdown",
   "id": "77dd3268-01ae-493a-b0df-3f8914768305",
   "metadata": {},
   "source": [
    "# Python plot commands"
   ]
  },
  {
   "cell_type": "markdown",
   "id": "d42c1d5e-4975-492c-860a-6424e5c1d691",
   "metadata": {},
   "source": [
    "#### You can copy/paste, uncomment and apply the example below for plotting:"
   ]
  },
  {
   "cell_type": "code",
   "execution_count": 3,
   "id": "0cc3d3f3-da43-45c1-b816-32322eb97f25",
   "metadata": {},
   "outputs": [],
   "source": [
    "###########################\n",
    "#### Plot example code ####\n",
    "###########################\n",
    "\n",
    "#### To change the size of the plot window\n",
    "# plt.rcParams['figure.dpi'] = 100\n",
    "\n",
    "#### Plot command\n",
    "# plt.plot(x,y,'ob',label='Example')\n",
    "\n",
    "#### Adding labels\n",
    "# plt.xlabel('s[m]')\n",
    "# plt.ylabel('[m]')\n",
    "\n",
    "#### Adding a legend\n",
    "# plt.legend(loc='best')"
   ]
  },
  {
   "cell_type": "markdown",
   "id": "670241b3-b489-472c-965f-0de432efe791",
   "metadata": {},
   "source": [
    "# Questions"
   ]
  },
  {
   "cell_type": "markdown",
   "id": "eff897b3",
   "metadata": {},
   "source": [
    "#### 1. Build a tranfer line of 10 m with 4 quadrupoles of L=0.4 m (centered at 2,4,6 and 8 m). With K1 respectively of 0.1, 0.1, 0.1 𝑚−2. Can you find a periodic solution? \n",
    "    \n",
    "<div>\n",
    "<img src=\"../Figures/Tutorial6_TransferLine.png\" width=\"500\"/>\n",
    "</div>\n",
    "    "
   ]
  },
  {
   "cell_type": "code",
   "execution_count": null,
   "id": "73f66b65-141f-44f7-9fbf-4ad29c667830",
   "metadata": {},
   "outputs": [],
   "source": []
  },
  {
   "cell_type": "code",
   "execution_count": null,
   "id": "7701c29a-3589-4173-9c33-2bf904cc8793",
   "metadata": {},
   "outputs": [],
   "source": []
  },
  {
   "cell_type": "markdown",
   "id": "2506681b",
   "metadata": {},
   "source": [
    "#### 2. Can you find an initial condition solution starting from (𝛽𝑥, 𝛼𝑥, 𝛽𝑦, 𝛼𝑦) = (1 m, 0, 2 m, 0)?. What is the final optical conditions ($\\beta_x^{end}$, $\\alpha_x^{end}$, $\\beta_y^{end}$, $\\alpha_y^{end}$)? "
   ]
  },
  {
   "cell_type": "code",
   "execution_count": null,
   "id": "cab23f95-842b-4832-a3b8-2ec0fccff685",
   "metadata": {},
   "outputs": [],
   "source": []
  },
  {
   "cell_type": "code",
   "execution_count": null,
   "id": "8d3fedcb-06d3-4e9b-ab1a-09f3d4d9b9bd",
   "metadata": {},
   "outputs": [],
   "source": []
  },
  {
   "cell_type": "markdown",
   "id": "a8e01e27",
   "metadata": {},
   "source": [
    "#### 3. Starting from ($\\beta_x$, $\\alpha_x$, $\\beta_y$, $\\alpha_y$) = (1 m, 0, 2 m, 0) match the line to ($\\beta_x^{end}$, $\\alpha_x^{end}$, $\\beta_y^{end}$, $\\alpha_y^{end}$)= (2 m,0,1 m,0) at the end. \n",
    "\n",
    "        MATCH, SEQUENCE=myCell, betx=??, bety=??;\n",
    "        constraint, betx=??, range=#e;\n",
    "        constraint, alfx=??, range=#e;\n",
    "        constraint, bety=??, range=#e;\n",
    "        constraint, alfy=??, range=#e;\n",
    "        VARY, NAME= ??, STEP=0.00001;\n",
    "        VARY, NAME= ??, STEP=0.00001;\n",
    "        VARY, NAME= ??, STEP=0.00001;\n",
    "        VARY, NAME= ??, STEP=0.00001;\n",
    "        JACOBIAN, CALLS=50, TOLERANCE=1e-20;//method adopted\n",
    "        ENDMATCH;"
   ]
  },
  {
   "cell_type": "code",
   "execution_count": null,
   "id": "c4a042df-ec37-4d46-947c-4c0e820812a8",
   "metadata": {},
   "outputs": [],
   "source": []
  },
  {
   "cell_type": "code",
   "execution_count": null,
   "id": "3fc44599-644b-4f53-b24b-8b083141dc98",
   "metadata": {},
   "outputs": [],
   "source": []
  },
  {
   "cell_type": "code",
   "execution_count": null,
   "id": "99643b8d-7fb3-427a-b3f0-170fee2b0416",
   "metadata": {},
   "outputs": [],
   "source": []
  },
  {
   "cell_type": "markdown",
   "id": "10447a1f",
   "metadata": {},
   "source": [
    "#### 4. Starting from ($\\beta_x$, $\\alpha_x$, $\\beta_y$, $\\alpha_y$) = (1 m, 0, 2 m, 0) and the gradients obtained with previous matching, match to ($\\beta_x^{end}$, $\\alpha_x^{end}$, $\\beta_y^{end}$, $\\alpha_y^{end}$) optained in point 2. Can you find back K1 respectively of 0.1,0.1,0.1,0.1 $m^{-2}$?. "
   ]
  },
  {
   "cell_type": "code",
   "execution_count": null,
   "id": "e9cb14f1",
   "metadata": {},
   "outputs": [],
   "source": []
  },
  {
   "cell_type": "code",
   "execution_count": null,
   "id": "0020c173",
   "metadata": {},
   "outputs": [],
   "source": []
  },
  {
   "attachments": {},
   "cell_type": "markdown",
   "id": "732ae726",
   "metadata": {},
   "source": [
    "### **BONUS:**\n",
    "\n",
    "\n",
    "#### 5. Consider that the quadrupoles have an excitation current factor of 10 A $m^2$ and an excitation magnetic factor of 2 T/m/A and an aperture of 40 mm diameter. Compute the mgnetic field at the poles of the four quadrupoles after matching. (HINT: assume a linear regime and use a dimensional approach). "
   ]
  },
  {
   "cell_type": "code",
   "execution_count": null,
   "id": "96c92a7c",
   "metadata": {},
   "outputs": [],
   "source": []
  },
  {
   "cell_type": "code",
   "execution_count": null,
   "id": "712b24fa",
   "metadata": {},
   "outputs": [],
   "source": []
  },
  {
   "cell_type": "code",
   "execution_count": null,
   "id": "29b214ed-7532-4b21-9d29-ea3dd5a926f0",
   "metadata": {},
   "outputs": [],
   "source": []
  }
 ],
 "metadata": {
  "kernelspec": {
   "display_name": "Python 3",
   "language": "python",
   "name": "python3"
  },
  "language_info": {
   "codemirror_mode": {
    "name": "ipython",
    "version": 3
   },
   "file_extension": ".py",
   "mimetype": "text/x-python",
   "name": "python",
   "nbconvert_exporter": "python",
   "pygments_lexer": "ipython3",
   "version": "3.8.8"
  }
 },
 "nbformat": 4,
 "nbformat_minor": 5
}
