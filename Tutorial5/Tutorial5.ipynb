{
 "cells": [
  {
   "cell_type": "markdown",
   "id": "87543be3-8d46-419d-a504-40723a53d894",
   "metadata": {},
   "source": [
    "# Tutorial 5: Chromaticity correction and non-linearities."
   ]
  },
  {
   "cell_type": "markdown",
   "id": "97f8e33e-3d2a-42ca-8641-60dee87391e9",
   "metadata": {},
   "source": [
    "# Objectives\n",
    "#### - Introduce sextupoles in the FODO cell for chromaticity correction.\n",
    "\n",
    "<div>\n",
    "<img src=\"../Figures/Tutorial5_chroma_correction.jpg\" width=\"500\"/>\n",
    "</div>\n",
    "\n",
    "#### - Non-linearities impact on the beam dynamics."
   ]
  },
  {
   "attachments": {},
   "cell_type": "markdown",
   "id": "21e72d9e-25fd-472d-a6c1-6ce5692b6c91",
   "metadata": {},
   "source": [
    "## Questions\n",
    "1. Add 0.5 m long sextupole attached to the two qudrupoles of the lattice defined on Tutorial 4 (with the thin lens lattice matched to 0.25 horizontal and vertical tunes). With a matching block adjust the vertical and horizontal chromaticity of the cell (global parameters: DQ1 and DQ2) to zero, by powering the two sextupoles ($K2_1$ and $K2_1$).\n",
    "\n",
    "<div>\n",
    "<img src=\"../Figures/Tutorial5_FODO.png\" width=\"500\"/>\n",
    "</div>\n",
    "\n",
    "2. Using the 𝐾21 and 𝐾21, 𝛽-function and dispersion at the sextupole location, evaluate using the formula the sextupolar effect on the Q1 for a particle at DELTAP=0.01. Compare with the results obtained in the Tutorial 4.\n",
    "3. Track a particle with initial coordinates x,y,px,py = (1,1,0,0) mm in 100 cells and DELTAP=0.01. Plot the x-px phase space. Did you manage to recover the original tune for the off-momentum particle?\n",
    "Q4. Track a particle with initial coordinates x,y,px,py=(100,100,0,0). How does the particle move in the phase space, cell after cell? Do you see the tunes? What is going on?\n",
    "## **BONUS**\n",
    "5. Move the tunes to (0.23, 0.23) and repeat the previous points 3 and 4. Is now the particle stable?"
   ]
  },
  {
   "cell_type": "markdown",
   "id": "7259ffce-080b-4515-a5d6-1632c4ff6490",
   "metadata": {},
   "source": [
    "# Python libraries "
   ]
  },
  {
   "cell_type": "code",
   "execution_count": 1,
   "id": "e0b0610e-33f2-4890-8507-f71a66df4a87",
   "metadata": {},
   "outputs": [],
   "source": [
    "#########################################\n",
    "# Python libraries                      #\n",
    "#########################################\n",
    "from matplotlib import pyplot as plt\n",
    "import numpy as np\n",
    "import pandas as pd\n",
    "\n",
    "#########################################\n",
    "# Cpymad library                        #\n",
    "#########################################\n",
    "from cpymad.madx import Madx "
   ]
  },
  {
   "cell_type": "markdown",
   "id": "b196e291-2db5-48b8-b20c-b129ff0e0d75",
   "metadata": {},
   "source": [
    "# Launching MAD-X"
   ]
  },
  {
   "cell_type": "code",
   "execution_count": 3,
   "id": "8494ebe3-c5a7-4263-8bb7-97dcfd006e91",
   "metadata": {},
   "outputs": [
    {
     "name": "stdout",
     "output_type": "stream",
     "text": [
      "\n",
      "  ++++++++++++++++++++++++++++++++++++++++++++\n",
      "  +     MAD-X 5.07.00  (64 bit, Darwin)      +\n",
      "  + Support: mad@cern.ch, http://cern.ch/mad +\n",
      "  + Release   date: 2021.05.03               +\n",
      "  + Execution date: 2022.12.06 17:12:27      +\n",
      "  ++++++++++++++++++++++++++++++++++++++++++++\n"
     ]
    }
   ],
   "source": [
    "# madx = Madx(stdout=True)\n",
    "madx = Madx()"
   ]
  },
  {
   "cell_type": "markdown",
   "id": "ad6cd73c-e14a-4b6a-92ba-a09443127242",
   "metadata": {},
   "source": [
    "# Methods in the Madx class from cpymad library to be used:"
   ]
  },
  {
   "cell_type": "markdown",
   "id": "4e45366b-cc55-4de3-8337-06d7f70a11ee",
   "metadata": {},
   "source": [
    "#### To run the MAD-X lattice input file:\n",
    "\n",
    "`madx.call('name_of_the_file.madx')`\n",
    "\n",
    "#### To save the MAD-X output data from the TWISS and SUMM tables into a pandas dataframe: \n",
    "\n",
    "`madx.table.twiss.dframe()`\n",
    "\n",
    "`madx.table.summ.dframe()`\n",
    "\n",
    "#### To run a MAD-X command from the Jupyter-notebook: \n",
    "\n",
    "`madx.input(\"MAD-X command\")`"
   ]
  },
  {
   "cell_type": "markdown",
   "id": "e5c8794b-001a-4e9b-94bb-38c392d90896",
   "metadata": {},
   "source": [
    "# Python plot commands"
   ]
  },
  {
   "cell_type": "markdown",
   "id": "4a41f8a2-0c6f-496e-a23e-610fa4f1cbea",
   "metadata": {},
   "source": [
    "#### You can copy/paste, uncomment and apply the example below for plotting:"
   ]
  },
  {
   "cell_type": "code",
   "execution_count": 2,
   "id": "79bef7ca-ee2a-4587-9c1e-eb19397c6976",
   "metadata": {},
   "outputs": [],
   "source": [
    "###########################\n",
    "#### Plot example code ####\n",
    "###########################\n",
    "\n",
    "#### To change the size of the plot window\n",
    "# plt.rcParams['figure.dpi'] = 100\n",
    "\n",
    "#### Plot command\n",
    "# plt.plot(x,y,'ob',label='Example')\n",
    "\n",
    "#### Adding labels\n",
    "# plt.xlabel('s[m]')\n",
    "# plt.ylabel('[m]')\n",
    "\n",
    "#### Adding a legend\n",
    "# plt.legend(loc='best')"
   ]
  },
  {
   "cell_type": "markdown",
   "id": "13e2eabd-52f7-4dc3-b22e-f2ec75abd541",
   "metadata": {},
   "source": [
    "# Questions"
   ]
  },
  {
   "cell_type": "markdown",
   "id": "a3243818",
   "metadata": {},
   "source": [
    "#### 1. Add 0.5 m long sextupole attached to the two qudrupoles of the lattice defined on Tutorial 4 (with the thin lens lattice matched to 0.25 horizontal and vertical tunes). With a matching block adjust the vertical and horizontal chromaticity of the cell (global parameters: DQ1 and DQ2) to zero, by powering the two sextupoles ($K2_1$ and $K2_1$). \n",
    "    \n",
    "<div>\n",
    "<img src=\"../Figures/Tutorial5_FODO.png\" width=\"500\"/>\n",
    "</div>\n",
    "\n",
    "        !In the magnet definition section:\n",
    "        SF: SEXTUPOLE, L:=??, K2:=??;\n",
    "        SD: SEXTUPOLE, L:=??, K2:=??;\n",
    "        \n",
    "        !In the sequence:\n",
    "        S2 : SD, at=??;\n",
    "        "
   ]
  },
  {
   "cell_type": "code",
   "execution_count": null,
   "id": "018559dc",
   "metadata": {
    "scrolled": true
   },
   "outputs": [],
   "source": []
  },
  {
   "cell_type": "code",
   "execution_count": null,
   "id": "68c7b07c-6c57-42b3-b9a5-adca2e4f2300",
   "metadata": {},
   "outputs": [],
   "source": []
  },
  {
   "cell_type": "code",
   "execution_count": null,
   "id": "f0382b53",
   "metadata": {},
   "outputs": [],
   "source": []
  },
  {
   "cell_type": "markdown",
   "id": "b821f47c",
   "metadata": {},
   "source": [
    "#### 2. Using the $𝐾2_1$ and $𝐾2_1$, 𝛽-function and dispersion at the sextupole location, evaluate using the formula the sextupolar effect on the Q1 for a particle at DELTAP=0.01. Compare with the results obtained in the Tutorial 4. "
   ]
  },
  {
   "attachments": {},
   "cell_type": "markdown",
   "id": "4e45bd22",
   "metadata": {},
   "source": [
    "**Sextupoles contribution to the chromaticity from the formulas:**\n",
    "$$\\xi = \\frac{1}{4*\\pi}*(\\beta_{x,S1}*K2_1*Dx_{S1}+\\beta_{x,S2}*K2_2*Dx_{S2})$$"
   ]
  },
  {
   "cell_type": "code",
   "execution_count": null,
   "id": "2b788c4b",
   "metadata": {},
   "outputs": [],
   "source": []
  },
  {
   "cell_type": "code",
   "execution_count": null,
   "id": "23262c80",
   "metadata": {},
   "outputs": [],
   "source": []
  },
  {
   "cell_type": "code",
   "execution_count": null,
   "id": "88832395-4b06-4651-88ca-6ecd3a315754",
   "metadata": {},
   "outputs": [],
   "source": []
  },
  {
   "attachments": {},
   "cell_type": "markdown",
   "id": "5315bb5b-d29d-4441-a94e-4b3b5a228b67",
   "metadata": {},
   "source": [
    "#### 3. Track a particle with initial coordinates x,y,px,py = (1,1,0,0) mm in 100 cells and DELTAP=0.01. Plot the x-px phase space. Did you manage to recover the original tune for the off-momentum particle? \n",
    "    \n",
    "**REMEMEBER** to make thin your lattice to use the TRACK command.\n",
    "\n",
    "        track, dump;    \n",
    "        start, x=1e-3, px=0, y=1e-3, py=0;    \n",
    "        run, turns=100;   \n",
    "        endtrack; \n",
    " \n",
    "**REMEMEBER** that in order to use the TRACK command you need to convert your lattice into a thin lattice. You will need the following commands:\n",
    "    \n",
    "        select, flag=MAKETHIN, SLICE=5;\n",
    "        MAKETHIN, SEQUENCE=MY_SEQUENCE;\n",
    "        use, sequence=MY_SEQUENCE;\n",
    "        \n",
    "\n",
    "**It is important when defining the SEQUENCE to refer to the the center, to make it compatible with the makethin command! So you may need to re-define the s location in your sequence accordingly.**\n"
   ]
  },
  {
   "cell_type": "code",
   "execution_count": null,
   "id": "e6d78830",
   "metadata": {},
   "outputs": [],
   "source": []
  },
  {
   "cell_type": "code",
   "execution_count": null,
   "id": "f782105b-3755-4e66-b8d9-f433bb4ff440",
   "metadata": {},
   "outputs": [],
   "source": []
  },
  {
   "cell_type": "code",
   "execution_count": null,
   "id": "ad05ba46",
   "metadata": {},
   "outputs": [],
   "source": []
  },
  {
   "cell_type": "markdown",
   "id": "08dd3c10-b80b-4de4-a8b4-7e5c56cdea4e",
   "metadata": {},
   "source": [
    "#### 4. Track a particle with initial coordinates x,y,px,py=(100,100,0,0). How does the particle move in the phase space, cell after cell? Do you see the tunes? What is going on? "
   ]
  },
  {
   "cell_type": "code",
   "execution_count": null,
   "id": "40b81a3d-126c-4223-8df7-65d6d5864092",
   "metadata": {},
   "outputs": [],
   "source": []
  },
  {
   "cell_type": "code",
   "execution_count": null,
   "id": "eff92c09-dfb8-4d0a-8370-d2461fdcf09c",
   "metadata": {},
   "outputs": [],
   "source": []
  },
  {
   "cell_type": "code",
   "execution_count": null,
   "id": "e8d1d624-2c49-4012-ba0f-d7e06bd0c0f2",
   "metadata": {},
   "outputs": [],
   "source": []
  },
  {
   "attachments": {},
   "cell_type": "markdown",
   "id": "4f8fc1cb",
   "metadata": {},
   "source": [
    "### **BONUS**\n",
    "\n",
    "#### 5. Move the tunes to (0.23, 0.23) and repeat the previous point. Is now the particle stable? "
   ]
  },
  {
   "cell_type": "code",
   "execution_count": null,
   "id": "11f410ce-fe3f-4e86-b2f9-cab9a7be6ed1",
   "metadata": {},
   "outputs": [],
   "source": []
  },
  {
   "cell_type": "code",
   "execution_count": null,
   "id": "a81d5b65-5f60-43a2-8b5c-4269d1ffa145",
   "metadata": {},
   "outputs": [],
   "source": []
  },
  {
   "cell_type": "code",
   "execution_count": null,
   "id": "633f0687-291f-4664-bedd-805062fd620d",
   "metadata": {},
   "outputs": [],
   "source": []
  }
 ],
 "metadata": {
  "kernelspec": {
   "display_name": "Python 3",
   "language": "python",
   "name": "python3"
  },
  "language_info": {
   "codemirror_mode": {
    "name": "ipython",
    "version": 3
   },
   "file_extension": ".py",
   "mimetype": "text/x-python",
   "name": "python",
   "nbconvert_exporter": "python",
   "pygments_lexer": "ipython3",
   "version": "3.8.8"
  }
 },
 "nbformat": 4,
 "nbformat_minor": 5
}
