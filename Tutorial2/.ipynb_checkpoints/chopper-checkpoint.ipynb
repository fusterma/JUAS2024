{
 "cells": [
  {
   "cell_type": "code",
   "execution_count": 25,
   "id": "e751f477-f9e1-418b-8787-8c6a7838bf33",
   "metadata": {
    "tags": []
   },
   "outputs": [
    {
     "data": {
      "text/plain": [
       "34666.66666666667"
      ]
     },
     "execution_count": 25,
     "metadata": {},
     "output_type": "execute_result"
    }
   ],
   "source": [
    "e=1.6e-19\n",
    "x=2 # distance from chopper to collimator\n",
    "leff=0.3 # chopper effective length\n",
    "d=0.04 # distance between plates\n",
    "T=13 # proton kinetic energy\n",
    "a=0.02 # collimator radius\n",
    "\n",
    "V=2*d*T*1.6e-13*a/(e*leff*x)\n",
    "V"
   ]
  },
  {
   "cell_type": "code",
   "execution_count": 15,
   "id": "d4a2901d-023b-468c-976a-b26e2ae0aa0d",
   "metadata": {
    "tags": []
   },
   "outputs": [
    {
     "data": {
      "text/plain": [
       "52000.00000000001"
      ]
     },
     "execution_count": 15,
     "metadata": {},
     "output_type": "execute_result"
    }
   ],
   "source": [
    "V=2*d*T*1.6e-13*0.02/(e*leff*x)\n",
    "V"
   ]
  },
  {
   "cell_type": "code",
   "execution_count": 8,
   "id": "c31606fd-50eb-49e7-b853-a0e821207f13",
   "metadata": {
    "tags": []
   },
   "outputs": [
    {
     "data": {
      "text/plain": [
       "1750000.0"
      ]
     },
     "execution_count": 8,
     "metadata": {},
     "output_type": "execute_result"
    }
   ],
   "source": [
    "700000/0.2/2\n"
   ]
  },
  {
   "cell_type": "code",
   "execution_count": null,
   "id": "c515df2a-84c7-40dc-a020-96853848790c",
   "metadata": {},
   "outputs": [],
   "source": []
  }
 ],
 "metadata": {
  "kernelspec": {
   "display_name": "Python 3 (ipykernel)",
   "language": "python",
   "name": "python3"
  },
  "language_info": {
   "codemirror_mode": {
    "name": "ipython",
    "version": 3
   },
   "file_extension": ".py",
   "mimetype": "text/x-python",
   "name": "python",
   "nbconvert_exporter": "python",
   "pygments_lexer": "ipython3",
   "version": "3.11.5"
  }
 },
 "nbformat": 4,
 "nbformat_minor": 5
}
