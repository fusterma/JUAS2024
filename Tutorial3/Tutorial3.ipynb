{
 "cells": [
  {
   "cell_type": "markdown",
   "id": "da1200e0-8abe-4530-ab90-d595e0b23ade",
   "metadata": {},
   "source": [
    "# Tutorial 3: Building a circular machine."
   ]
  },
  {
   "attachments": {},
   "cell_type": "markdown",
   "id": "f9b04ace-5758-4427-9295-3614c44e33da",
   "metadata": {},
   "source": [
    "# Objectives:\n",
    "- Build a circular machine by introducing dipoles into the FODO cell of Tutorial 1.\n",
    "- Use the MATCHING MAD-X engine to compute the strength of the magnets to get a desired tune.\n"
   ]
  },
  {
   "cell_type": "markdown",
   "id": "9698a5fe-faf3-4708-8262-f1f848f48f3b",
   "metadata": {},
   "source": [
    "# Questions"
   ]
  },
  {
   "attachments": {},
   "cell_type": "markdown",
   "id": "9e283340-144e-448a-afe3-f9453ddeaa32",
   "metadata": {},
   "source": [
    "3E-31. Consider now the FODO cell of Tutorial 1 and add 4 sector dipoles of 15 m long (assume 5 m of drift space between magnets). Consider a ring with 736 dipoles with equal bending angles.\n",
    "\n",
    "  <div>\n",
    "  <img src=\"../Figures/Tutorial3_FODO.png\" width=\"500\"/>\n",
    "  </div>\n",
    "\n",
    "2. Do the dipoles (weak focusing) affect the 𝛽𝑚𝑎𝑥 and the dispersion? Compute the relative variation on the 𝛽𝑚𝑎𝑥 on the two planes.\n",
    "3. From the phase advance of the FODO cell compute the horizontal and vertical tune of the machine?\n",
    "4. Supose you want to set a tune (60.2, 67.2), use the MAD-X matching routine on a single FODO to get it.\n",
    "\n",
    "#### **BONUS**\n",
    "5. Change the beam to $E_{tot}= 7 TeV$. What is the new tune of the machine? Why?\n",
    "6. What is the maximum tune that you can reach with such a lattice? (HINT: what is the maximum phase advance per FODO cell in the thin lens approximation...)"
   ]
  },
  {
   "cell_type": "markdown",
   "id": "803eb301-adf4-4bb9-b415-6248f7c7db27",
   "metadata": {},
   "source": [
    "# Python libraries "
   ]
  },
  {
   "cell_type": "code",
   "execution_count": 1,
   "id": "8b364b0a-2195-4926-bbfd-e9fe8082a4f6",
   "metadata": {},
   "outputs": [],
   "source": [
    "#########################################\n",
    "# Python libraries                      #\n",
    "#########################################\n",
    "from matplotlib import pyplot as plt\n",
    "import numpy as np\n",
    "import pandas as pd\n",
    "\n",
    "#########################################\n",
    "# Cpymad library                        #\n",
    "#########################################\n",
    "from cpymad.madx import Madx "
   ]
  },
  {
   "cell_type": "markdown",
   "id": "50c845f7-c6a3-4da6-95a1-927660d70dea",
   "metadata": {},
   "source": [
    "# Launching MAD-X"
   ]
  },
  {
   "cell_type": "code",
   "execution_count": 3,
   "id": "ef31d9d5-7141-4013-8ac9-a30a37e2b20f",
   "metadata": {},
   "outputs": [
    {
     "name": "stdout",
     "output_type": "stream",
     "text": [
      "\n",
      "  ++++++++++++++++++++++++++++++++++++++++++++\n",
      "  +     MAD-X 5.07.00  (64 bit, Darwin)      +\n",
      "  + Support: mad@cern.ch, http://cern.ch/mad +\n",
      "  + Release   date: 2021.05.03               +\n",
      "  + Execution date: 2022.12.06 16:21:50      +\n",
      "  ++++++++++++++++++++++++++++++++++++++++++++\n"
     ]
    }
   ],
   "source": [
    "# madx = Madx(stdout=True)\n",
    "madx = Madx()"
   ]
  },
  {
   "cell_type": "markdown",
   "id": "cdc48135-0a4d-4ee5-af34-7d55a8960e93",
   "metadata": {},
   "source": [
    "# Methods in the Madx class from cpymad library to be used:"
   ]
  },
  {
   "attachments": {},
   "cell_type": "markdown",
   "id": "8ac1e190-4b55-449c-ae54-ee92ebc745d5",
   "metadata": {},
   "source": [
    "To run the MAD-X lattice input file:\n",
    "\n",
    "`madx.call('name_of_the_file.madx')`\n",
    "\n",
    "To save the MAD-X output data from the TWISS and SUMM tables into a pandas dataframe: \n",
    "\n",
    "`madx.table.twiss.dframe()`\n",
    "\n",
    "`madx.table.summ.dframe()`\n",
    "\n",
    "To run a MAD-X command from the Jupyter-notebook: \n",
    "\n",
    "`madx.input(\"MAD-X command\")`"
   ]
  },
  {
   "cell_type": "markdown",
   "id": "66dae9ef-1c64-486f-ade7-e8e0bb92fca5",
   "metadata": {},
   "source": [
    "# Python plot commands"
   ]
  },
  {
   "attachments": {},
   "cell_type": "markdown",
   "id": "e8cb3f27-e7d1-44b2-a35f-18ab7a67340e",
   "metadata": {},
   "source": [
    "You can copy/paste, uncomment and apply the example below for plotting:"
   ]
  },
  {
   "cell_type": "code",
   "execution_count": 2,
   "id": "44cd1bb7-d8af-4dc8-80da-addb59232b4d",
   "metadata": {},
   "outputs": [],
   "source": [
    "###########################\n",
    "#### Plot example code ####\n",
    "###########################\n",
    "\n",
    "#### To change the size of the plot window\n",
    "# plt.rcParams['figure.dpi'] = 100\n",
    "\n",
    "#### Plot command\n",
    "# plt.plot(x,y,'ob',label='Example')\n",
    "\n",
    "#### Adding labels\n",
    "# plt.xlabel('s[m]')\n",
    "# plt.ylabel('[m]')\n",
    "\n",
    "#### Adding a legend\n",
    "# plt.legend(loc='best')"
   ]
  },
  {
   "cell_type": "markdown",
   "id": "8ed12fec-21c9-4f87-8689-0c3a45e01c24",
   "metadata": {},
   "source": [
    "# Questions"
   ]
  },
  {
   "attachments": {},
   "cell_type": "markdown",
   "id": "d939d6a6",
   "metadata": {},
   "source": [
    "#### 1. Consider now the FODO cell of Tutorial 1 and add 4 sector dipoles of 15 m long (assume 5 m of drift space between magnets). Consider a ring with 736 dipoles with equal bending angles.\n",
    "\n",
    "  <div>\n",
    "  <img src=\"../Figures/Tutorial3_FODO.png\" width=\"500\"/>\n",
    "  </div>"
   ]
  },
  {
   "cell_type": "markdown",
   "id": "f1e3934a-626f-4566-b39f-2a46081d8727",
   "metadata": {},
   "source": [
    "       Define the dipole parameters:\n",
    "       BM: sbend, L=??, angle:=??;\n",
    "    \n",
    "       Add the dipole in the sequence: \n",
    "       dipole1: BM, at=??;"
   ]
  },
  {
   "attachments": {},
   "cell_type": "markdown",
   "id": "2d3754f0",
   "metadata": {},
   "source": [
    "First, the calculation of the required bending angle for a circular orbit: $2\\pi=N\\theta$"
   ]
  },
  {
   "cell_type": "code",
   "execution_count": 4,
   "id": "1c867ffc-12e7-467e-a25a-2ab4e42517e7",
   "metadata": {},
   "outputs": [],
   "source": [
    "#madx=Madx()\n",
    "#madx.call('Tutorial3.madx')"
   ]
  },
  {
   "cell_type": "code",
   "execution_count": null,
   "id": "951e5145-5634-40f5-8fd1-da0990227c5a",
   "metadata": {},
   "outputs": [],
   "source": []
  },
  {
   "cell_type": "code",
   "execution_count": null,
   "id": "1b9876e2-9426-4a02-96d7-a9d87d7ee94c",
   "metadata": {},
   "outputs": [],
   "source": []
  },
  {
   "attachments": {},
   "cell_type": "markdown",
   "id": "4897b6e1",
   "metadata": {},
   "source": [
    "#### 2. Do the dipoles (weak focusing) affect the 𝛽𝑚𝑎𝑥 and the dispersion? Compute the relative variation on the 𝛽𝑚𝑎𝑥 on the two planes."
   ]
  },
  {
   "cell_type": "code",
   "execution_count": null,
   "id": "39ac305f",
   "metadata": {},
   "outputs": [],
   "source": []
  },
  {
   "cell_type": "code",
   "execution_count": null,
   "id": "1cac1cdd",
   "metadata": {},
   "outputs": [],
   "source": []
  },
  {
   "cell_type": "markdown",
   "id": "82ab5e4c",
   "metadata": {},
   "source": [
    "#### 3. From the phase advance of the FODO cell compute the horizontal and vertical tune of the machine?"
   ]
  },
  {
   "cell_type": "code",
   "execution_count": null,
   "id": "b4285c0f",
   "metadata": {},
   "outputs": [],
   "source": []
  },
  {
   "cell_type": "code",
   "execution_count": null,
   "id": "52a84856-c2fe-47bb-983f-b6837b585545",
   "metadata": {},
   "outputs": [],
   "source": []
  },
  {
   "cell_type": "code",
   "execution_count": null,
   "id": "cc432c31",
   "metadata": {},
   "outputs": [],
   "source": []
  },
  {
   "cell_type": "markdown",
   "id": "c73b1f3e",
   "metadata": {},
   "source": [
    "#### 4. Supose you want to set a tune (60.2, 67.2), use the MAD-X matching routine on a single FODO to get it. \n",
    "     \n",
    "        MATCH, SEQUENCE=myCell;\n",
    "        GLOBAL, Q1=??;//H-tune\n",
    "        GLOBAL, Q2=??;//V-tune\n",
    "        VARY, NAME= ??, STEP=0.00001;\n",
    "        VARY, NAME= ??, STEP=0.00001;\n",
    "        LMDIF, CALLS=50, TOLERANCE=1e-6;//method adopted\n",
    "        ENDMATCH;\n",
    "\n"
   ]
  },
  {
   "cell_type": "code",
   "execution_count": null,
   "id": "d4405772",
   "metadata": {},
   "outputs": [],
   "source": []
  },
  {
   "cell_type": "code",
   "execution_count": null,
   "id": "d682481f",
   "metadata": {},
   "outputs": [],
   "source": []
  },
  {
   "cell_type": "markdown",
   "id": "ca0dc3c5-8b63-4b5e-8b0f-a620d14d9301",
   "metadata": {},
   "source": [
    "# **BONUS**"
   ]
  },
  {
   "cell_type": "markdown",
   "id": "52468e34",
   "metadata": {},
   "source": [
    "#### 5. Change the beam to $E_{tot}= 7 TeV$. What is the new tune of the machine? Why?"
   ]
  },
  {
   "cell_type": "code",
   "execution_count": null,
   "id": "b97df552",
   "metadata": {},
   "outputs": [],
   "source": []
  },
  {
   "cell_type": "code",
   "execution_count": null,
   "id": "9358f6c3",
   "metadata": {},
   "outputs": [],
   "source": []
  },
  {
   "cell_type": "markdown",
   "id": "030f5e42",
   "metadata": {},
   "source": [
    "#### 6. What is the maximum tune that you can reach with such a lattice? (HINT: what is the maximum phase advance per FODO cell in the thin lens approximation...)"
   ]
  },
  {
   "cell_type": "code",
   "execution_count": null,
   "id": "3172109f",
   "metadata": {},
   "outputs": [],
   "source": []
  },
  {
   "cell_type": "code",
   "execution_count": null,
   "id": "55747183-bd6e-443d-9cba-e11c9394fccb",
   "metadata": {},
   "outputs": [],
   "source": []
  }
 ],
 "metadata": {
  "kernelspec": {
   "display_name": "Python 3",
   "language": "python",
   "name": "python3"
  },
  "language_info": {
   "codemirror_mode": {
    "name": "ipython",
    "version": 3
   },
   "file_extension": ".py",
   "mimetype": "text/x-python",
   "name": "python",
   "nbconvert_exporter": "python",
   "pygments_lexer": "ipython3",
   "version": "3.8.8"
  }
 },
 "nbformat": 4,
 "nbformat_minor": 5
}
