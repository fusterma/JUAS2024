{
 "cells": [
  {
   "cell_type": "markdown",
   "id": "a3243818",
   "metadata": {
    "tags": []
   },
   "source": [
    "# Tutorial 1: My first accelerator, a FODO cell."
   ]
  },
  {
   "attachments": {},
   "cell_type": "markdown",
   "id": "90e6802e-8fe1-4a68-85e1-8c76adaddbf8",
   "metadata": {},
   "source": [
    "# Objectives\n",
    "- Get a working enviroment (if not ready!).\n",
    "- Get familiar with the pythonic approach to use MAD-X.\n",
    "- Define a simple lattice.\n",
    "- Compute the optics using the TWISS MAD-X engine."
   ]
  },
  {
   "attachments": {},
   "cell_type": "markdown",
   "id": "590156a8-762d-43dc-8727-506b904a66ba",
   "metadata": {},
   "source": [
    "# Questions\n",
    "1. Define the lattice MAD-X input file (.madx) for a FODO cell with the following characteristics:\n",
    "   - Length of the cell, $L_{cell}$ = 100 m.\n",
    "   - Two quadrupoles, one focusing (FQ) and another one defocusing (DQ) of 5 m long ($L_q$).\n",
    "   - Put the start of the first quadrupole at the start of the sequence.\n",
    "   - Each quadrupole has a focal length f = 200 m. (HINT: k1 x $L_{q}$= 1/f).\n",
    "     \n",
    "     <div>\n",
    "     <img src=\"../Figures/Tutorial1_FODO.png\" width=\"500\"/>\n",
    "     </div>\n",
    "     \n",
    "2. Define a proton beam with $E_{tot}$ = 2 GeV. Activate the sequence and try to find the periodic solution with the TWISS MAD-X function. Then, plot the $\\beta$-functions. If you found $\\beta_{max}$ = 460 m you succeeded! \n",
    "\n",
    "3. Using the plot you obtained can you estimate the phase advance of the cell. Compare with the tunes obtained with the TWISS.\n",
    "\n",
    "4. Try with $E_{tot}$ = 0.7 GeV: what is the MAD-X error message? Try with f = 20 m: what is the MAD-X error message? (Note that the error messages will appear in the jupyter-notebook or in the terminal from which you launched the JupyterLab)."
   ]
  },
  {
   "attachments": {},
   "cell_type": "markdown",
   "id": "f2a6e3ff-1544-405c-9580-1692b1a44ed0",
   "metadata": {},
   "source": [
    "# MAD-X pythonic approach basic steps:\n",
    "\n",
    "- Load the cpymad library.\n",
    "- Instantiate the MAD-X class (we create an object of that class and run a MAD-X process).\n",
    "- Access the methods of the class Madx in order to communicate with the opened MAD-X process."
   ]
  },
  {
   "attachments": {},
   "cell_type": "markdown",
   "id": "c223cfa3-f5ce-4c1a-b9a9-a99f316abc24",
   "metadata": {},
   "source": [
    "# Python libraries \n",
    "\n",
    "The python universe has a huge number of libraries that extend the capabilities of python. Nearly all of these are open source. The first thing that we need to do is to import the ones that we want to use."
   ]
  },
  {
   "cell_type": "code",
   "execution_count": 1,
   "id": "87cb2af8-a01b-4481-97e3-0d012de5477b",
   "metadata": {},
   "outputs": [],
   "source": [
    "#########################################\n",
    "# Python libraries                      #\n",
    "#########################################\n",
    "from matplotlib import pyplot as plt\n",
    "import numpy as np\n",
    "import pandas as pd\n",
    "\n",
    "#########################################\n",
    "# Cpymad library                        #\n",
    "#########################################\n",
    "from cpymad.madx import Madx "
   ]
  },
  {
   "attachments": {},
   "cell_type": "markdown",
   "id": "b3023598-e4d4-4a1b-81fc-08a7e6624d91",
   "metadata": {},
   "source": [
    "More on the cpymad library: http://hibtc.github.io/cpymad/getting-started"
   ]
  },
  {
   "cell_type": "markdown",
   "id": "cdb7df26-fa62-4a9f-ad0b-e0d2f71e0784",
   "metadata": {},
   "source": [
    "# Launching MAD-X"
   ]
  },
  {
   "cell_type": "code",
   "execution_count": 2,
   "id": "202123a9-4148-4ed1-9ebe-41ffe6c70c76",
   "metadata": {},
   "outputs": [
    {
     "name": "stdout",
     "output_type": "stream",
     "text": [
      "\n",
      "  ++++++++++++++++++++++++++++++++++++++++++++\n",
      "  +     MAD-X 5.07.00  (64 bit, Darwin)      +\n",
      "  + Support: mad@cern.ch, http://cern.ch/mad +\n",
      "  + Release   date: 2021.05.03               +\n",
      "  + Execution date: 2023.01.09 12:57:07      +\n",
      "  ++++++++++++++++++++++++++++++++++++++++++++\n"
     ]
    }
   ],
   "source": [
    "# madx = Madx(stdout=True)\n",
    "madx = Madx()"
   ]
  },
  {
   "cell_type": "markdown",
   "id": "b087426b-dcbd-4085-839c-38c9b128ab11",
   "metadata": {},
   "source": [
    "# Methods in the Madx class from cpymad library to be used:"
   ]
  },
  {
   "cell_type": "markdown",
   "id": "5b3df2d3-53db-4754-968c-0fefc52388c9",
   "metadata": {},
   "source": [
    "#### To run the MAD-X lattice input file:\n",
    "\n",
    "`madx.call('name_of_the_file.madx')`\n",
    "\n",
    "#### To save the MAD-X output data from the TWISS and SUMM tables into a pandas dataframe: \n",
    "\n",
    "`madx.table.twiss.dframe()`\n",
    "\n",
    "`madx.table.summ.dframe()`\n",
    "\n",
    "#### To run a MAD-X command from the Jupyter-notebook: \n",
    "\n",
    "`madx.input(\"MAD-X command\")`"
   ]
  },
  {
   "cell_type": "markdown",
   "id": "3cbf68a5-7936-4fd3-8649-5abfa6dd504b",
   "metadata": {},
   "source": [
    "# Python plot commands"
   ]
  },
  {
   "cell_type": "markdown",
   "id": "998d8fc0-a338-46e8-8680-5ad39fd1bf13",
   "metadata": {},
   "source": [
    "#### You can copy/paste, uncomment and apply the example below for plotting:"
   ]
  },
  {
   "cell_type": "code",
   "execution_count": 3,
   "id": "cd6f6f30-6318-4431-a16c-d3278de76963",
   "metadata": {},
   "outputs": [],
   "source": [
    "###########################\n",
    "#### Plot example code ####\n",
    "###########################\n",
    "\n",
    "#### To change the size of the plot window\n",
    "# plt.rcParams['figure.dpi'] = 100\n",
    "\n",
    "#### Plot command\n",
    "# plt.plot(x,y,'ob',label='Example')\n",
    "\n",
    "#### Adding labels\n",
    "# plt.xlabel('s[m]')\n",
    "# plt.ylabel('[m]')\n",
    "\n",
    "#### Adding a legend\n",
    "# plt.legend(loc='best')"
   ]
  },
  {
   "cell_type": "markdown",
   "id": "c262888a-2a97-424d-a851-27d8f98ce571",
   "metadata": {},
   "source": [
    "# Questions"
   ]
  },
  {
   "cell_type": "markdown",
   "id": "558f2236-8496-4951-b67d-473eff72d79d",
   "metadata": {},
   "source": [
    "#### 1. Define the lattice MAD-X input file (.madx) for a FODO cell with the following characteristics:\n",
    " - Length of the cell, $L_{cell}$ = 100 m.\n",
    " - Two quadrupoles, one focusing (FQ) and another one defocusing (DQ) of 5 m long ($L_q$).\n",
    " - Put the start of the first quadrupole at the start of the sequence.\n",
    " - Each quadrupole has a focal length f = 200 m. (HINT: k1 x $L_q$= 1/f). \n",
    " \n",
    "<div>\n",
    "<img src=\"../Figures/Tutorial1_FODO.png\" width=\"500\"/>\n",
    "</div>"
   ]
  },
  {
   "cell_type": "code",
   "execution_count": 4,
   "id": "9a6dbae4",
   "metadata": {},
   "outputs": [],
   "source": [
    "# madx.call('Tutorial1.madx')"
   ]
  },
  {
   "cell_type": "markdown",
   "id": "fb482c5d-0a0a-41de-a3cb-152d08918cb1",
   "metadata": {},
   "source": [
    "#### 2. Define a proton beam with $E_{tot}$ = 2 GeV. Activate the sequence and try to find the periodic solution with the TWISS MAD-X action. Then, plot the $\\beta$-functions. If you found $\\beta_{max}$ = 460 m you succeeded!"
   ]
  },
  {
   "cell_type": "code",
   "execution_count": 5,
   "id": "6ab7b105-41fc-459e-bf41-41637d9a29ad",
   "metadata": {},
   "outputs": [],
   "source": [
    "# madx.input(\"...\")"
   ]
  },
  {
   "attachments": {},
   "cell_type": "markdown",
   "id": "d660fb45",
   "metadata": {},
   "source": [
    "Accessing the MAD-X output data with python-cpymad functions"
   ]
  },
  {
   "cell_type": "code",
   "execution_count": 6,
   "id": "ae5af176-7173-4840-a53a-04dfdf14f611",
   "metadata": {},
   "outputs": [],
   "source": [
    "# first we can check the list of existing table names generated by MAD-X\n",
    "# print(list(madx.table))"
   ]
  },
  {
   "cell_type": "code",
   "execution_count": 7,
   "id": "663017ea",
   "metadata": {},
   "outputs": [],
   "source": [
    "# myDF=madx.table.twiss.dframe()\n",
    "# If you want to select some columns from the table TWISS\n",
    "# myDF[['name','keyword','s','betx','bety','alfx','alfy','mux','muy','dx','dy','x','y']]"
   ]
  },
  {
   "cell_type": "code",
   "execution_count": null,
   "id": "9c10e221-00b5-49df-8fb0-35649e376777",
   "metadata": {},
   "outputs": [],
   "source": []
  },
  {
   "attachments": {},
   "cell_type": "markdown",
   "id": "2ccae72c",
   "metadata": {},
   "source": [
    "Plotting results"
   ]
  },
  {
   "cell_type": "code",
   "execution_count": 8,
   "id": "b9ea22fc",
   "metadata": {},
   "outputs": [],
   "source": [
    "#fig = plt.figure(figsize=(13,8))\n",
    "#plt.rcParams.update({'font.size': 20})\n",
    "#plt.plot(myDF['s'],myDF['betx'],'.-b',label='$\\\\beta_x$')\n",
    "#plt.plot(myDF['s'],myDF['bety'],'.-r',label='$\\\\beta_y$')\n",
    "#plt.xlabel('s [m]')\n",
    "#plt.ylabel('[m]')\n",
    "#plt.legend()\n",
    "#plt.grid()"
   ]
  },
  {
   "attachments": {},
   "cell_type": "markdown",
   "id": "6e584ead",
   "metadata": {},
   "source": [
    "**If you found $\\beta_{max}$= 463.6 m you succeded!**"
   ]
  },
  {
   "cell_type": "markdown",
   "id": "86b65bb2",
   "metadata": {},
   "source": [
    "#### 3. Using the plot you obtained can you estimate the phase advance of the cell. Compare with the tunes obtained with the TWISS."
   ]
  },
  {
   "attachments": {},
   "cell_type": "markdown",
   "id": "139ab614",
   "metadata": {},
   "source": [
    "For the phase advance one can consider the definition:\n",
    "\n",
    " $$\\begin{equation} \n",
    " \\mu=\\int\\frac{1}{\\beta(s)}ds.\n",
    " \\end{equation}$$\n",
    "\n",
    "Remember the phase advance in MAD-X is given in units of [2$\\pi$]."
   ]
  },
  {
   "cell_type": "code",
   "execution_count": null,
   "id": "c2c48a38",
   "metadata": {},
   "outputs": [],
   "source": []
  },
  {
   "cell_type": "code",
   "execution_count": null,
   "id": "e1df6eec-e995-4551-9331-8d02713590dc",
   "metadata": {},
   "outputs": [],
   "source": []
  },
  {
   "attachments": {},
   "cell_type": "markdown",
   "id": "537588e6",
   "metadata": {},
   "source": [
    "#### 4. Try with $E_{tot}$ = 0.7 GeV: what is the MAD-X error message? Try with f = 20 m: what is the MAD-X error message? \n",
    "\n",
    "(Note that the error messages will appear in the jupyter-notebook or in the terminal from which you launched the JupyterLab). "
   ]
  },
  {
   "cell_type": "code",
   "execution_count": null,
   "id": "9f88f86d-394b-4b04-b4b5-8a9f553ac1dd",
   "metadata": {},
   "outputs": [],
   "source": []
  },
  {
   "cell_type": "code",
   "execution_count": null,
   "id": "00f710fe-4a29-4208-a231-0b201f2a2db9",
   "metadata": {},
   "outputs": [],
   "source": []
  }
 ],
 "metadata": {
  "kernelspec": {
   "display_name": "Python 3",
   "language": "python",
   "name": "python3"
  },
  "language_info": {
   "codemirror_mode": {
    "name": "ipython",
    "version": 3
   },
   "file_extension": ".py",
   "mimetype": "text/x-python",
   "name": "python",
   "nbconvert_exporter": "python",
   "pygments_lexer": "ipython3",
   "version": "3.8.8"
  },
  "toc-autonumbering": false,
  "toc-showcode": true,
  "toc-showmarkdowntxt": true
 },
 "nbformat": 4,
 "nbformat_minor": 5
}
